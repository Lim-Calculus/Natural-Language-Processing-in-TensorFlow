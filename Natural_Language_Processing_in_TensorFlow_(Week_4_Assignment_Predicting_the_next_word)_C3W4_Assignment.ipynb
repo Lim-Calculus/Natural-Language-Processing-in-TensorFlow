{
  "cells": [
    {
      "cell_type": "markdown",
      "metadata": {
        "id": "view-in-github",
        "colab_type": "text"
      },
      "source": [
        "<a href=\"https://colab.research.google.com/github/Lim-Calculus/Natural-Language-Processing-in-TensorFlow/blob/main/Natural_Language_Processing_in_TensorFlow_(Week_4_Assignment_Predicting_the_next_word)_C3W4_Assignment.ipynb\" target=\"_parent\"><img src=\"https://colab.research.google.com/assets/colab-badge.svg\" alt=\"Open In Colab\"/></a>"
      ]
    },
    {
      "cell_type": "markdown",
      "metadata": {
        "id": "bFWbEb6uGbN-"
      },
      "source": [
        "# Week 4: Predicting the next word\n",
        "\n",
        "Welcome to this assignment! During this week you saw how to create a model that will predict the next word in a text sequence, now you will implement such model and train it using a corpus of Shakespeare's sonnets, while also creating some helper functions to pre-process the data.\n",
        "\n",
        "\n",
        "Let's get started!"
      ]
    },
    {
      "cell_type": "code",
      "execution_count": 1,
      "metadata": {
        "id": "BOwsuGQQY9OL",
        "tags": [
          "graded"
        ]
      },
      "outputs": [],
      "source": [
        "import numpy as np \n",
        "import matplotlib.pyplot as plt\n",
        "from tensorflow.keras.models import Sequential\n",
        "from tensorflow.keras.utils import to_categorical \n",
        "from tensorflow.keras.preprocessing.text import Tokenizer\n",
        "from tensorflow.keras.preprocessing.sequence import pad_sequences\n",
        "from tensorflow.keras.layers import Embedding, LSTM, Dense, Bidirectional\n",
        "import tensorflow as tf"
      ]
    },
    {
      "cell_type": "markdown",
      "metadata": {
        "id": "BTxqlHqKHzhr"
      },
      "source": [
        "For this assignment you will be using the [Shakespeare Sonnets Dataset](https://www.opensourceshakespeare.org/views/sonnets/sonnet_view.php?range=viewrange&sonnetrange1=1&sonnetrange2=154), which contains more than 2000 lines of text extracted from Shakespeare's sonnets."
      ]
    },
    {
      "cell_type": "code",
      "execution_count": 2,
      "metadata": {
        "id": "WZ4qOUzujMP6",
        "tags": [
          "graded"
        ],
        "colab": {
          "base_uri": "https://localhost:8080/"
        },
        "outputId": "9c46e099-7f60-40cd-9351-819a70620cf8"
      },
      "outputs": [
        {
          "output_type": "stream",
          "name": "stdout",
          "text": [
            "/usr/local/lib/python3.8/dist-packages/gdown/cli.py:127: FutureWarning: Option `--id` was deprecated in version 4.3.1 and will be removed in 5.0. You don't need to pass it anymore to use a file ID.\n",
            "  warnings.warn(\n",
            "Downloading...\n",
            "From: https://drive.google.com/uc?id=108jAePKK4R3BVYBbYJZ32JWUwxeMg20K\n",
            "To: /content/sonnets.txt\n",
            "100% 93.6k/93.6k [00:00<00:00, 68.9MB/s]\n"
          ]
        }
      ],
      "source": [
        "# sonnets.txt\n",
        "!gdown --id 108jAePKK4R3BVYBbYJZ32JWUwxeMg20K"
      ]
    },
    {
      "cell_type": "code",
      "execution_count": 3,
      "metadata": {
        "id": "Pfd-nYKij5yY",
        "tags": [
          "graded"
        ],
        "colab": {
          "base_uri": "https://localhost:8080/"
        },
        "outputId": "9a744419-6138-4b50-f7b7-79c329fca49a"
      },
      "outputs": [
        {
          "output_type": "stream",
          "name": "stdout",
          "text": [
            "There are 2159 lines of sonnets\n",
            "\n",
            "The first 5 lines look like this:\n",
            "\n",
            "from fairest creatures we desire increase,\n",
            "that thereby beauty's rose might never die,\n",
            "but as the riper should by time decease,\n",
            "his tender heir might bear his memory:\n",
            "but thou, contracted to thine own bright eyes,\n"
          ]
        }
      ],
      "source": [
        "# Define path for file with sonnets\n",
        "SONNETS_FILE = './sonnets.txt'\n",
        "\n",
        "# Read the data\n",
        "with open('./sonnets.txt') as f:\n",
        "    data = f.read()\n",
        "\n",
        "# Convert to lower case and save as a list\n",
        "corpus = data.lower().split(\"\\n\")\n",
        "\n",
        "print(f\"There are {len(corpus)} lines of sonnets\\n\")\n",
        "print(f\"The first 5 lines look like this:\\n\")\n",
        "for i in range(5):\n",
        "  print(corpus[i])"
      ]
    },
    {
      "cell_type": "markdown",
      "metadata": {
        "id": "imB15zrSNhA1"
      },
      "source": [
        "## Tokenizing the text\n",
        "\n",
        "Now fit the Tokenizer to the corpus and save the total number of words."
      ]
    },
    {
      "cell_type": "code",
      "execution_count": 4,
      "metadata": {
        "id": "AAhM_qAZk0o5",
        "tags": [
          "graded"
        ]
      },
      "outputs": [],
      "source": [
        "tokenizer = Tokenizer()\n",
        "tokenizer.fit_on_texts(corpus)\n",
        "total_words = len(tokenizer.word_index) + 1"
      ]
    },
    {
      "cell_type": "markdown",
      "metadata": {
        "id": "77-0sA46OETa"
      },
      "source": [
        "When converting the text into sequences you can use the `texts_to_sequences` method as you have done throughout this course.\n",
        "\n",
        "In the next graded function you will need to process this corpus one line at a time. Given this, it is important to keep in mind that the way you are feeding the data unto this method affects the result. Check the following example to make this clearer.\n",
        "\n",
        "The first example of the corpus is a string and looks like this:"
      ]
    },
    {
      "cell_type": "code",
      "execution_count": 5,
      "metadata": {
        "id": "tqhPxdeXlfjh",
        "tags": [
          "graded"
        ],
        "colab": {
          "base_uri": "https://localhost:8080/",
          "height": 36
        },
        "outputId": "bcb51bd8-0460-43ce-e744-4dab2e22e2fa"
      },
      "outputs": [
        {
          "output_type": "execute_result",
          "data": {
            "text/plain": [
              "'from fairest creatures we desire increase,'"
            ],
            "application/vnd.google.colaboratory.intrinsic+json": {
              "type": "string"
            }
          },
          "metadata": {},
          "execution_count": 5
        }
      ],
      "source": [
        "corpus[0]"
      ]
    },
    {
      "cell_type": "markdown",
      "metadata": {
        "id": "XFMP4z11O3os"
      },
      "source": [
        "If you pass this text directly into the `texts_to_sequences` method you will get an unexpected result:"
      ]
    },
    {
      "cell_type": "code",
      "execution_count": 6,
      "metadata": {
        "id": "EMSEhmbzNZCE",
        "tags": [
          "graded"
        ],
        "colab": {
          "base_uri": "https://localhost:8080/"
        },
        "outputId": "76c944bb-0645-4f90-e7b3-eb1afb078ea2"
      },
      "outputs": [
        {
          "output_type": "execute_result",
          "data": {
            "text/plain": [
              "[[],\n",
              " [],\n",
              " [58],\n",
              " [],\n",
              " [],\n",
              " [],\n",
              " [17],\n",
              " [6],\n",
              " [],\n",
              " [],\n",
              " [],\n",
              " [],\n",
              " [],\n",
              " [],\n",
              " [],\n",
              " [],\n",
              " [17],\n",
              " [],\n",
              " [],\n",
              " [],\n",
              " [],\n",
              " [],\n",
              " [],\n",
              " [],\n",
              " [],\n",
              " [],\n",
              " [],\n",
              " [],\n",
              " [],\n",
              " [6],\n",
              " [],\n",
              " [],\n",
              " [],\n",
              " [6],\n",
              " [],\n",
              " [],\n",
              " [],\n",
              " [],\n",
              " [17],\n",
              " [],\n",
              " [],\n",
              " []]"
            ]
          },
          "metadata": {},
          "execution_count": 6
        }
      ],
      "source": [
        "tokenizer.texts_to_sequences(corpus[0])"
      ]
    },
    {
      "cell_type": "markdown",
      "metadata": {
        "id": "pPZmZtpEPEeI"
      },
      "source": [
        "This happened because `texts_to_sequences` expects a list and you are providing a string. However a string is still and `iterable` in Python so you will get the word index of every character in the string.\n",
        "\n",
        "Instead you need to place the example whithin a list before passing it to the method:"
      ]
    },
    {
      "cell_type": "code",
      "execution_count": 7,
      "metadata": {
        "id": "Qmgo-vXhk4nd",
        "tags": [
          "graded"
        ],
        "colab": {
          "base_uri": "https://localhost:8080/"
        },
        "outputId": "a3919cc0-385b-4a4f-ad56-f525847df693"
      },
      "outputs": [
        {
          "output_type": "execute_result",
          "data": {
            "text/plain": [
              "[[34, 417, 877, 166, 213, 517]]"
            ]
          },
          "metadata": {},
          "execution_count": 7
        }
      ],
      "source": [
        "tokenizer.texts_to_sequences([corpus[0]])"
      ]
    },
    {
      "cell_type": "markdown",
      "metadata": {
        "id": "0DU7wK-eQ5dc"
      },
      "source": [
        "Notice that you received the sequence wrapped inside a list so in order to get only the desired sequence you need to explicitly get the first item in the list like this:"
      ]
    },
    {
      "cell_type": "code",
      "execution_count": 8,
      "metadata": {
        "id": "kpTy8WmIQ57P",
        "tags": [
          "graded"
        ],
        "colab": {
          "base_uri": "https://localhost:8080/"
        },
        "outputId": "77eaf626-1ebe-4b4b-8d22-0bce058d2107"
      },
      "outputs": [
        {
          "output_type": "execute_result",
          "data": {
            "text/plain": [
              "[34, 417, 877, 166, 213, 517]"
            ]
          },
          "metadata": {},
          "execution_count": 8
        }
      ],
      "source": [
        "tokenizer.texts_to_sequences([corpus[0]])[0]"
      ]
    },
    {
      "cell_type": "markdown",
      "metadata": {
        "id": "-oqy9KjXRJ9A"
      },
      "source": [
        "## Generating n_grams\n",
        "\n",
        "Now complete the `n_gram_seqs` function below. This function receives the fitted tokenizer and the corpus (which is a list of strings) and should return a list containing the `n_gram` sequences for each line in the corpus:"
      ]
    },
    {
      "cell_type": "code",
      "execution_count": 9,
      "metadata": {
        "id": "iy4baJMDl6kj",
        "tags": [
          "graded"
        ]
      },
      "outputs": [],
      "source": [
        "# GRADED FUNCTION: n_gram_seqs\n",
        "def n_gram_seqs(corpus, tokenizer):\n",
        "    \"\"\"\n",
        "    Generates a list of n-gram sequences\n",
        "    \n",
        "    Args:\n",
        "        corpus (list of string): lines of texts to generate n-grams for\n",
        "        tokenizer (object): an instance of the Tokenizer class containing the word-index dictionary\n",
        "    \n",
        "    Returns:\n",
        "        input_sequences (list of int): the n-gram sequences for each line in the corpus\n",
        "    \"\"\"\n",
        "    input_sequences = []\n",
        "    \n",
        "      ### START CODE HERE\n",
        "      # Loop over every line\n",
        "    for line in corpus:\n",
        "\n",
        "      # Tokenize the current line\n",
        "      token_list = tokenizer.texts_to_sequences([line])[0]\n",
        "\n",
        "      # Loop over the line several times to generate the subphrases\n",
        "      for i in range(1, len(token_list)):\n",
        "        \n",
        "        # Generate the subphrase\n",
        "        n_gram_sequence = token_list[:i+1]\n",
        "\n",
        "        # Append the subphrase to the sequences list\n",
        "        input_sequences.append(n_gram_sequence)\n",
        "      \n",
        "      ### END CODE HERE\n",
        "      \n",
        "    return input_sequences"
      ]
    },
    {
      "cell_type": "code",
      "execution_count": 10,
      "metadata": {
        "id": "DlKqW2pfM7G3",
        "tags": [
          "graded"
        ],
        "colab": {
          "base_uri": "https://localhost:8080/"
        },
        "outputId": "141224e2-0553-4f3a-83ec-0c56f077267d"
      },
      "outputs": [
        {
          "output_type": "stream",
          "name": "stdout",
          "text": [
            "n_gram sequences for first example look like this:\n",
            "\n"
          ]
        },
        {
          "output_type": "execute_result",
          "data": {
            "text/plain": [
              "[[34, 417],\n",
              " [34, 417, 877],\n",
              " [34, 417, 877, 166],\n",
              " [34, 417, 877, 166, 213],\n",
              " [34, 417, 877, 166, 213, 517]]"
            ]
          },
          "metadata": {},
          "execution_count": 10
        }
      ],
      "source": [
        "# Test your function with one example\n",
        "first_example_sequence = n_gram_seqs([corpus[0]], tokenizer)\n",
        "\n",
        "print(\"n_gram sequences for first example look like this:\\n\")\n",
        "first_example_sequence"
      ]
    },
    {
      "cell_type": "markdown",
      "metadata": {
        "id": "0HL8Ug6UU0Jt"
      },
      "source": [
        "**Expected Output:**\n",
        "\n",
        "```\n",
        "n_gram sequences for first example look like this:\n",
        "\n",
        "[[34, 417],\n",
        " [34, 417, 877],\n",
        " [34, 417, 877, 166],\n",
        " [34, 417, 877, 166, 213],\n",
        " [34, 417, 877, 166, 213, 517]]\n",
        "```"
      ]
    },
    {
      "cell_type": "code",
      "execution_count": 11,
      "metadata": {
        "id": "wtPpCcBjNc4c",
        "tags": [
          "graded"
        ],
        "colab": {
          "base_uri": "https://localhost:8080/"
        },
        "outputId": "bbdbe924-b2be-487c-ff4e-f14e58d88cd9"
      },
      "outputs": [
        {
          "output_type": "stream",
          "name": "stdout",
          "text": [
            "n_gram sequences for next 3 examples look like this:\n",
            "\n"
          ]
        },
        {
          "output_type": "execute_result",
          "data": {
            "text/plain": [
              "[[8, 878],\n",
              " [8, 878, 134],\n",
              " [8, 878, 134, 351],\n",
              " [8, 878, 134, 351, 102],\n",
              " [8, 878, 134, 351, 102, 156],\n",
              " [8, 878, 134, 351, 102, 156, 199],\n",
              " [16, 22],\n",
              " [16, 22, 2],\n",
              " [16, 22, 2, 879],\n",
              " [16, 22, 2, 879, 61],\n",
              " [16, 22, 2, 879, 61, 30],\n",
              " [16, 22, 2, 879, 61, 30, 48],\n",
              " [16, 22, 2, 879, 61, 30, 48, 634],\n",
              " [25, 311],\n",
              " [25, 311, 635],\n",
              " [25, 311, 635, 102],\n",
              " [25, 311, 635, 102, 200],\n",
              " [25, 311, 635, 102, 200, 25],\n",
              " [25, 311, 635, 102, 200, 25, 278]]"
            ]
          },
          "metadata": {},
          "execution_count": 11
        }
      ],
      "source": [
        "# Test your function with a bigger corpus\n",
        "next_3_examples_sequence = n_gram_seqs(corpus[1:4], tokenizer)\n",
        "\n",
        "print(\"n_gram sequences for next 3 examples look like this:\\n\")\n",
        "next_3_examples_sequence"
      ]
    },
    {
      "cell_type": "markdown",
      "metadata": {
        "id": "EIzecMczU9UB"
      },
      "source": [
        "**Expected Output:**\n",
        "\n",
        "```\n",
        "n_gram sequences for next 3 examples look like this:\n",
        "\n",
        "[[8, 878],\n",
        " [8, 878, 134],\n",
        " [8, 878, 134, 351],\n",
        " [8, 878, 134, 351, 102],\n",
        " [8, 878, 134, 351, 102, 156],\n",
        " [8, 878, 134, 351, 102, 156, 199],\n",
        " [16, 22],\n",
        " [16, 22, 2],\n",
        " [16, 22, 2, 879],\n",
        " [16, 22, 2, 879, 61],\n",
        " [16, 22, 2, 879, 61, 30],\n",
        " [16, 22, 2, 879, 61, 30, 48],\n",
        " [16, 22, 2, 879, 61, 30, 48, 634],\n",
        " [25, 311],\n",
        " [25, 311, 635],\n",
        " [25, 311, 635, 102],\n",
        " [25, 311, 635, 102, 200],\n",
        " [25, 311, 635, 102, 200, 25],\n",
        " [25, 311, 635, 102, 200, 25, 278]]\n",
        "```"
      ]
    },
    {
      "cell_type": "markdown",
      "metadata": {
        "id": "dx3V_RjFWQSu"
      },
      "source": [
        "Apply the `n_gram_seqs` transformation to the whole corpus and save the maximum sequence length to use it later:"
      ]
    },
    {
      "cell_type": "code",
      "execution_count": 12,
      "metadata": {
        "id": "laMwiRUpmuSd",
        "tags": [
          "graded"
        ],
        "colab": {
          "base_uri": "https://localhost:8080/"
        },
        "outputId": "50fcb444-9176-4199-c2dd-c6b8a710da81"
      },
      "outputs": [
        {
          "output_type": "stream",
          "name": "stdout",
          "text": [
            "n_grams of input_sequences have length: 15462\n",
            "maximum length of sequences is: 11\n"
          ]
        }
      ],
      "source": [
        "# Apply the n_gram_seqs transformation to the whole corpus\n",
        "input_sequences = n_gram_seqs(corpus, tokenizer)\n",
        "\n",
        "# Save max length \n",
        "max_sequence_len = max([len(x) for x in input_sequences])\n",
        "\n",
        "print(f\"n_grams of input_sequences have length: {len(input_sequences)}\")\n",
        "print(f\"maximum length of sequences is: {max_sequence_len}\")"
      ]
    },
    {
      "cell_type": "markdown",
      "metadata": {
        "id": "2OciMdmEdE9L"
      },
      "source": [
        "**Expected Output:**\n",
        "\n",
        "```\n",
        "n_grams of input_sequences have length: 15462\n",
        "maximum length of sequences is: 11\n",
        "```"
      ]
    },
    {
      "cell_type": "markdown",
      "metadata": {
        "id": "zHY7HroqWq12"
      },
      "source": [
        "## Add padding to the sequences\n",
        "\n",
        "Now code the `pad_seqs` function which will pad any given sequences to the desired maximum length. Notice that this function receives a list of sequences and should return a numpy array with the padded sequences: "
      ]
    },
    {
      "cell_type": "code",
      "execution_count": 13,
      "metadata": {
        "cellView": "code",
        "id": "WW1-qAZaWOhC",
        "tags": [
          "graded"
        ]
      },
      "outputs": [],
      "source": [
        "# GRADED FUNCTION: pad_seqs\n",
        "def pad_seqs(input_sequences, maxlen):\n",
        "    \"\"\"\n",
        "    Pads tokenized sequences to the same length\n",
        "    \n",
        "    Args:\n",
        "        input_sequences (list of int): tokenized sequences to pad\n",
        "        maxlen (int): maximum length of the token sequences\n",
        "    \n",
        "    Returns:\n",
        "        padded_sequences (array of int): tokenized sequences padded to the same length\n",
        "    \"\"\"\n",
        "    ### START CODE HERE\n",
        "    padded_sequences = pad_sequences(input_sequences, maxlen=maxlen, padding='pre')\n",
        "    \n",
        "    return padded_sequences\n",
        "    ### END CODE HERE"
      ]
    },
    {
      "cell_type": "code",
      "execution_count": 14,
      "metadata": {
        "id": "IqVQ0pb3YHLr",
        "tags": [
          "graded"
        ],
        "colab": {
          "base_uri": "https://localhost:8080/"
        },
        "outputId": "bfe153d7-6f33-4288-8b03-a0ea9eef7cb4"
      },
      "outputs": [
        {
          "output_type": "execute_result",
          "data": {
            "text/plain": [
              "array([[  0,   0,   0,   0,  34, 417],\n",
              "       [  0,   0,   0,  34, 417, 877],\n",
              "       [  0,   0,  34, 417, 877, 166],\n",
              "       [  0,  34, 417, 877, 166, 213],\n",
              "       [ 34, 417, 877, 166, 213, 517]], dtype=int32)"
            ]
          },
          "metadata": {},
          "execution_count": 14
        }
      ],
      "source": [
        "# Test your function with the n_grams_seq of the first example\n",
        "first_padded_seq = pad_seqs(first_example_sequence, max([len(x) for x in first_example_sequence]))\n",
        "first_padded_seq"
      ]
    },
    {
      "cell_type": "markdown",
      "metadata": {
        "id": "Re_avDznXRnU"
      },
      "source": [
        "**Expected Output:**\n",
        "\n",
        "```\n",
        "array([[  0,   0,   0,   0,  34, 417],\n",
        "       [  0,   0,   0,  34, 417, 877],\n",
        "       [  0,   0,  34, 417, 877, 166],\n",
        "       [  0,  34, 417, 877, 166, 213],\n",
        "       [ 34, 417, 877, 166, 213, 517]], dtype=int32)\n",
        "```"
      ]
    },
    {
      "cell_type": "code",
      "execution_count": 15,
      "metadata": {
        "id": "j56_UCOBYzZt",
        "tags": [
          "graded"
        ],
        "colab": {
          "base_uri": "https://localhost:8080/"
        },
        "outputId": "9cc935de-73c3-4679-8bcb-8e49f51126f8"
      },
      "outputs": [
        {
          "output_type": "execute_result",
          "data": {
            "text/plain": [
              "array([[  0,   0,   0,   0,   0,   0,   8, 878],\n",
              "       [  0,   0,   0,   0,   0,   8, 878, 134],\n",
              "       [  0,   0,   0,   0,   8, 878, 134, 351],\n",
              "       [  0,   0,   0,   8, 878, 134, 351, 102],\n",
              "       [  0,   0,   8, 878, 134, 351, 102, 156],\n",
              "       [  0,   8, 878, 134, 351, 102, 156, 199],\n",
              "       [  0,   0,   0,   0,   0,   0,  16,  22],\n",
              "       [  0,   0,   0,   0,   0,  16,  22,   2],\n",
              "       [  0,   0,   0,   0,  16,  22,   2, 879],\n",
              "       [  0,   0,   0,  16,  22,   2, 879,  61],\n",
              "       [  0,   0,  16,  22,   2, 879,  61,  30],\n",
              "       [  0,  16,  22,   2, 879,  61,  30,  48],\n",
              "       [ 16,  22,   2, 879,  61,  30,  48, 634],\n",
              "       [  0,   0,   0,   0,   0,   0,  25, 311],\n",
              "       [  0,   0,   0,   0,   0,  25, 311, 635],\n",
              "       [  0,   0,   0,   0,  25, 311, 635, 102],\n",
              "       [  0,   0,   0,  25, 311, 635, 102, 200],\n",
              "       [  0,   0,  25, 311, 635, 102, 200,  25],\n",
              "       [  0,  25, 311, 635, 102, 200,  25, 278]], dtype=int32)"
            ]
          },
          "metadata": {},
          "execution_count": 15
        }
      ],
      "source": [
        "# Test your function with the n_grams_seq of the next 3 examples\n",
        "next_3_padded_seq = pad_seqs(next_3_examples_sequence, max([len(s) for s in next_3_examples_sequence]))\n",
        "next_3_padded_seq"
      ]
    },
    {
      "cell_type": "markdown",
      "metadata": {
        "id": "3rmcDluOXcIU"
      },
      "source": [
        "**Expected Output:**\n",
        "\n",
        "```\n",
        "array([[  0,   0,   0,   0,   0,   0,   8, 878],\n",
        "       [  0,   0,   0,   0,   0,   8, 878, 134],\n",
        "       [  0,   0,   0,   0,   8, 878, 134, 351],\n",
        "       [  0,   0,   0,   8, 878, 134, 351, 102],\n",
        "       [  0,   0,   8, 878, 134, 351, 102, 156],\n",
        "       [  0,   8, 878, 134, 351, 102, 156, 199],\n",
        "       [  0,   0,   0,   0,   0,   0,  16,  22],\n",
        "       [  0,   0,   0,   0,   0,  16,  22,   2],\n",
        "       [  0,   0,   0,   0,  16,  22,   2, 879],\n",
        "       [  0,   0,   0,  16,  22,   2, 879,  61],\n",
        "       [  0,   0,  16,  22,   2, 879,  61,  30],\n",
        "       [  0,  16,  22,   2, 879,  61,  30,  48],\n",
        "       [ 16,  22,   2, 879,  61,  30,  48, 634],\n",
        "       [  0,   0,   0,   0,   0,   0,  25, 311],\n",
        "       [  0,   0,   0,   0,   0,  25, 311, 635],\n",
        "       [  0,   0,   0,   0,  25, 311, 635, 102],\n",
        "       [  0,   0,   0,  25, 311, 635, 102, 200],\n",
        "       [  0,   0,  25, 311, 635, 102, 200,  25],\n",
        "       [  0,  25, 311, 635, 102, 200,  25, 278]], dtype=int32)\n",
        "```"
      ]
    },
    {
      "cell_type": "code",
      "execution_count": 16,
      "metadata": {
        "id": "rgK-Q_micEYA",
        "tags": [
          "graded"
        ],
        "colab": {
          "base_uri": "https://localhost:8080/"
        },
        "outputId": "74330942-f111-42c9-8454-5328bafca90b"
      },
      "outputs": [
        {
          "output_type": "stream",
          "name": "stdout",
          "text": [
            "padded corpus has shape: (15462, 11)\n"
          ]
        }
      ],
      "source": [
        "# Pad the whole corpus\n",
        "input_sequences = pad_seqs(input_sequences, max_sequence_len)\n",
        "\n",
        "print(f\"padded corpus has shape: {input_sequences.shape}\")"
      ]
    },
    {
      "cell_type": "markdown",
      "metadata": {
        "id": "59RD1YYNc7CW"
      },
      "source": [
        "**Expected Output:**\n",
        "\n",
        "```\n",
        "padded corpus has shape: (15462, 11)\n",
        "```"
      ]
    },
    {
      "cell_type": "markdown",
      "metadata": {
        "id": "ZbOidyPrXxf7"
      },
      "source": [
        "## Split the data into features and labels\n",
        "\n",
        "Before feeding the data into the neural network you should split it into features and labels. In this case the features will be the padded n_gram sequences with the last word removed from them and the labels will be the removed word.\n",
        "\n",
        "Complete the `features_and_labels` function below. This function expects the padded n_gram sequences as input and should return a tuple containing the features and the one hot encoded labels.\n",
        "\n",
        "Notice that the function also receives the total of words in the corpus, this parameter will be very important when one hot enconding the labels since every word in the corpus will be a label at least once. If you need a refresh of how the `to_categorical` function works take a look at the [docs](https://www.tensorflow.org/api_docs/python/tf/keras/utils/to_categorical)"
      ]
    },
    {
      "cell_type": "code",
      "execution_count": 17,
      "metadata": {
        "cellView": "code",
        "id": "9WGGbYdnZdmJ",
        "tags": [
          "graded"
        ]
      },
      "outputs": [],
      "source": [
        "# GRADED FUNCTION: features_and_labels\n",
        "def features_and_labels(input_sequences, total_words):\n",
        "    \"\"\"\n",
        "    Generates features and labels from n-grams\n",
        "    \n",
        "    Args:\n",
        "        input_sequences (list of int): sequences to split features and labels from\n",
        "        total_words (int): vocabulary size\n",
        "    \n",
        "    Returns:\n",
        "        features, one_hot_labels (array of int, array of int): arrays of features and one-hot encoded labels\n",
        "    \"\"\"\n",
        "    ### START CODE HERE\n",
        "    features =  input_sequences[:,:-1]\n",
        "    labels = input_sequences[:,-1]\n",
        "    one_hot_labels = to_categorical(labels, num_classes=total_words)\n",
        "    ### END CODE HERE\n",
        "\n",
        "    return features, one_hot_labels"
      ]
    },
    {
      "cell_type": "code",
      "execution_count": 18,
      "metadata": {
        "id": "23DolaBRaIAZ",
        "tags": [
          "graded"
        ],
        "colab": {
          "base_uri": "https://localhost:8080/"
        },
        "outputId": "87c37ad3-b568-4341-c386-51933b3594cd"
      },
      "outputs": [
        {
          "output_type": "stream",
          "name": "stdout",
          "text": [
            "labels have shape: (5, 3211)\n",
            "\n",
            "features look like this:\n",
            "\n"
          ]
        },
        {
          "output_type": "execute_result",
          "data": {
            "text/plain": [
              "array([[  0,   0,   0,   0,  34],\n",
              "       [  0,   0,   0,  34, 417],\n",
              "       [  0,   0,  34, 417, 877],\n",
              "       [  0,  34, 417, 877, 166],\n",
              "       [ 34, 417, 877, 166, 213]], dtype=int32)"
            ]
          },
          "metadata": {},
          "execution_count": 18
        }
      ],
      "source": [
        "# Test your function with the padded n_grams_seq of the first example\n",
        "first_features, first_labels = features_and_labels(first_padded_seq, total_words)\n",
        "\n",
        "print(f\"labels have shape: {first_labels.shape}\")\n",
        "print(\"\\nfeatures look like this:\\n\")\n",
        "first_features"
      ]
    },
    {
      "cell_type": "markdown",
      "metadata": {
        "id": "7t4yAx2UaQ43"
      },
      "source": [
        "**Expected Output:**\n",
        "\n",
        "```\n",
        "labels have shape: (5, 3211)\n",
        "\n",
        "features look like this:\n",
        "\n",
        "array([[  0,   0,   0,  34],\n",
        "       [  0,   0,  34, 417],\n",
        "       [  0,  34, 417, 877],\n",
        "       [ 34, 417, 877, 166],\n",
        "       [417, 877, 166, 213]], dtype=int32)\n",
        "```"
      ]
    },
    {
      "cell_type": "code",
      "execution_count": 19,
      "metadata": {
        "id": "GRTuLEt3bRKa",
        "tags": [
          "graded"
        ],
        "colab": {
          "base_uri": "https://localhost:8080/"
        },
        "outputId": "b2541e79-d047-4651-d684-f25f20c2fb1a"
      },
      "outputs": [
        {
          "output_type": "stream",
          "name": "stdout",
          "text": [
            "features have shape: (15462, 10)\n",
            "labels have shape: (15462, 3211)\n"
          ]
        }
      ],
      "source": [
        "# Split the whole corpus\n",
        "features, labels = features_and_labels(input_sequences, total_words)\n",
        "\n",
        "print(f\"features have shape: {features.shape}\")\n",
        "print(f\"labels have shape: {labels.shape}\")"
      ]
    },
    {
      "cell_type": "markdown",
      "metadata": {
        "id": "xXSMK_HpdLns"
      },
      "source": [
        "**Expected Output:**\n",
        "\n",
        "```\n",
        "features have shape: (15462, 10)\n",
        "labels have shape: (15462, 3211)\n",
        "```"
      ]
    },
    {
      "cell_type": "markdown",
      "metadata": {
        "id": "ltxaOCE_aU6J"
      },
      "source": [
        "## Create the model\n",
        "\n",
        "Now you should define a model architecture capable of achieving an accuracy of at least 80%.\n",
        "\n",
        "Some hints to help you in this task:\n",
        "\n",
        "- An appropriate `output_dim` for the first layer (Embedding) is 100, this is already provided for you.\n",
        "- A Bidirectional LSTM is helpful for this particular problem.\n",
        "- The last layer should have the same number of units as the total number of words in the corpus and a softmax activation function.\n",
        "- This problem can be solved with only two layers (excluding the Embedding) so try out small architectures first."
      ]
    },
    {
      "cell_type": "code",
      "execution_count": 20,
      "metadata": {
        "cellView": "code",
        "id": "XrE6kpJFfvRY",
        "tags": [
          "graded"
        ]
      },
      "outputs": [],
      "source": [
        "# GRADED FUNCTION: create_model\n",
        "def create_model(total_words, max_sequence_len):\n",
        "    \"\"\"\n",
        "    Creates a text generator model\n",
        "    \n",
        "    Args:\n",
        "        total_words (int): size of the vocabulary for the Embedding layer input\n",
        "        max_sequence_len (int): length of the input sequences\n",
        "    \n",
        "    Returns:\n",
        "        model (tf.keras Model): the text generator model\n",
        "    \"\"\"\n",
        "   \n",
        "    model = tf.keras.models.Sequential([ \n",
        "        # This is how you need to set the Embedding layer when using pre-trained embeddings\n",
        "        tf.keras.layers.Embedding(total_words, 100, input_length=max_sequence_len-1),\n",
        "        tf.keras.layers.Bidirectional(tf.keras.layers.LSTM(128, return_sequences=True)),\n",
        "        tf.keras.layers.Bidirectional(tf.keras.layers.LSTM(256, return_sequences=True)),\n",
        "        tf.keras.layers.Bidirectional(tf.keras.layers.LSTM(128)),        \n",
        "        tf.keras.layers.Dense(256),\n",
        "        tf.keras.layers.BatchNormalization(),\n",
        "        tf.keras.layers.LeakyReLU(),\n",
        "        tf.keras.layers.Dropout(0.5),\n",
        "        tf.keras.layers.Dense(128),\n",
        "        tf.keras.layers.BatchNormalization(),\n",
        "        tf.keras.layers.LeakyReLU(),\n",
        "        tf.keras.layers.Dropout(0.5),    \n",
        "        tf.keras.layers.Dense(total_words,activation=\"softmax\"),\n",
        "    \n",
        "    ])  \n",
        "    \n",
        "\n",
        "\n",
        "    # Compile the model\n",
        "    model.compile(loss=\"categorical_crossentropy\",\n",
        "                  optimizer=tf.keras.optimizers.Adam(1e-3),\n",
        "                  metrics=['accuracy'])\n",
        "    \n",
        "    ### END CODE HERE\n",
        "    model.summary()\n",
        "    return model"
      ]
    },
    {
      "cell_type": "code",
      "execution_count": 21,
      "metadata": {
        "id": "0IpX_Gu_gISk",
        "tags": [],
        "colab": {
          "base_uri": "https://localhost:8080/"
        },
        "outputId": "53883276-93c8-4d73-f353-c24cef24ec40"
      },
      "outputs": [
        {
          "output_type": "stream",
          "name": "stdout",
          "text": [
            "Model: \"sequential\"\n",
            "_________________________________________________________________\n",
            " Layer (type)                Output Shape              Param #   \n",
            "=================================================================\n",
            " embedding (Embedding)       (None, 10, 100)           321100    \n",
            "                                                                 \n",
            " bidirectional (Bidirectiona  (None, 10, 256)          234496    \n",
            " l)                                                              \n",
            "                                                                 \n",
            " bidirectional_1 (Bidirectio  (None, 10, 512)          1050624   \n",
            " nal)                                                            \n",
            "                                                                 \n",
            " bidirectional_2 (Bidirectio  (None, 256)              656384    \n",
            " nal)                                                            \n",
            "                                                                 \n",
            " dense (Dense)               (None, 256)               65792     \n",
            "                                                                 \n",
            " batch_normalization (BatchN  (None, 256)              1024      \n",
            " ormalization)                                                   \n",
            "                                                                 \n",
            " leaky_re_lu (LeakyReLU)     (None, 256)               0         \n",
            "                                                                 \n",
            " dropout (Dropout)           (None, 256)               0         \n",
            "                                                                 \n",
            " dense_1 (Dense)             (None, 128)               32896     \n",
            "                                                                 \n",
            " batch_normalization_1 (Batc  (None, 128)              512       \n",
            " hNormalization)                                                 \n",
            "                                                                 \n",
            " leaky_re_lu_1 (LeakyReLU)   (None, 128)               0         \n",
            "                                                                 \n",
            " dropout_1 (Dropout)         (None, 128)               0         \n",
            "                                                                 \n",
            " dense_2 (Dense)             (None, 3211)              414219    \n",
            "                                                                 \n",
            "=================================================================\n",
            "Total params: 2,777,047\n",
            "Trainable params: 2,776,279\n",
            "Non-trainable params: 768\n",
            "_________________________________________________________________\n",
            "Epoch 1/200\n",
            "484/484 [==============================] - 25s 15ms/step - loss: 7.0548 - accuracy: 0.0202 - lr: 0.0010\n",
            "Epoch 2/200\n",
            "484/484 [==============================] - 7s 15ms/step - loss: 6.7601 - accuracy: 0.0226 - lr: 0.0010\n",
            "Epoch 3/200\n",
            "484/484 [==============================] - 8s 16ms/step - loss: 6.6088 - accuracy: 0.0219 - lr: 0.0010\n",
            "Epoch 4/200\n",
            "484/484 [==============================] - 7s 15ms/step - loss: 6.4721 - accuracy: 0.0270 - lr: 0.0010\n",
            "Epoch 5/200\n",
            "484/484 [==============================] - 7s 15ms/step - loss: 6.3726 - accuracy: 0.0284 - lr: 0.0010\n",
            "Epoch 6/200\n",
            "484/484 [==============================] - 7s 15ms/step - loss: 6.2770 - accuracy: 0.0365 - lr: 0.0010\n",
            "Epoch 7/200\n",
            "484/484 [==============================] - 8s 17ms/step - loss: 6.1819 - accuracy: 0.0387 - lr: 0.0010\n",
            "Epoch 8/200\n",
            "484/484 [==============================] - 7s 15ms/step - loss: 6.0744 - accuracy: 0.0452 - lr: 0.0010\n",
            "Epoch 9/200\n",
            "484/484 [==============================] - 8s 16ms/step - loss: 5.9826 - accuracy: 0.0495 - lr: 0.0010\n",
            "Epoch 10/200\n",
            "484/484 [==============================] - 8s 16ms/step - loss: 5.8663 - accuracy: 0.0539 - lr: 0.0010\n",
            "Epoch 11/200\n",
            "484/484 [==============================] - 7s 15ms/step - loss: 5.7682 - accuracy: 0.0622 - lr: 0.0010\n",
            "Epoch 12/200\n",
            "484/484 [==============================] - 8s 16ms/step - loss: 5.6666 - accuracy: 0.0693 - lr: 0.0010\n",
            "Epoch 13/200\n",
            "484/484 [==============================] - 7s 15ms/step - loss: 5.5765 - accuracy: 0.0758 - lr: 0.0010\n",
            "Epoch 14/200\n",
            "484/484 [==============================] - 8s 16ms/step - loss: 5.4724 - accuracy: 0.0827 - lr: 0.0010\n",
            "Epoch 15/200\n",
            "484/484 [==============================] - 8s 16ms/step - loss: 5.3894 - accuracy: 0.0880 - lr: 0.0010\n",
            "Epoch 16/200\n",
            "484/484 [==============================] - 8s 16ms/step - loss: 5.3032 - accuracy: 0.0966 - lr: 0.0010\n",
            "Epoch 17/200\n",
            "484/484 [==============================] - 8s 16ms/step - loss: 5.2270 - accuracy: 0.1006 - lr: 0.0010\n",
            "Epoch 18/200\n",
            "484/484 [==============================] - 7s 15ms/step - loss: 5.1335 - accuracy: 0.1101 - lr: 0.0010\n",
            "Epoch 19/200\n",
            "484/484 [==============================] - 8s 16ms/step - loss: 5.0435 - accuracy: 0.1180 - lr: 0.0010\n",
            "Epoch 20/200\n",
            "484/484 [==============================] - 8s 16ms/step - loss: 4.9773 - accuracy: 0.1274 - lr: 0.0010\n",
            "Epoch 21/200\n",
            "484/484 [==============================] - 8s 16ms/step - loss: 4.8959 - accuracy: 0.1332 - lr: 0.0010\n",
            "Epoch 22/200\n",
            "484/484 [==============================] - 8s 16ms/step - loss: 4.8187 - accuracy: 0.1400 - lr: 0.0010\n",
            "Epoch 23/200\n",
            "484/484 [==============================] - 8s 16ms/step - loss: 4.7377 - accuracy: 0.1482 - lr: 0.0010\n",
            "Epoch 24/200\n",
            "484/484 [==============================] - 8s 16ms/step - loss: 4.6527 - accuracy: 0.1571 - lr: 0.0010\n",
            "Epoch 25/200\n",
            "484/484 [==============================] - 8s 16ms/step - loss: 4.5457 - accuracy: 0.1687 - lr: 0.0010\n",
            "Epoch 26/200\n",
            "484/484 [==============================] - 8s 16ms/step - loss: 4.4775 - accuracy: 0.1762 - lr: 0.0010\n",
            "Epoch 27/200\n",
            "484/484 [==============================] - 8s 16ms/step - loss: 4.3897 - accuracy: 0.1879 - lr: 0.0010\n",
            "Epoch 28/200\n",
            "484/484 [==============================] - 8s 16ms/step - loss: 4.3120 - accuracy: 0.1947 - lr: 0.0010\n",
            "Epoch 29/200\n",
            "484/484 [==============================] - 8s 16ms/step - loss: 4.2126 - accuracy: 0.2110 - lr: 0.0010\n",
            "Epoch 30/200\n",
            "484/484 [==============================] - 8s 16ms/step - loss: 4.1263 - accuracy: 0.2170 - lr: 0.0010\n",
            "Epoch 31/200\n",
            "484/484 [==============================] - 8s 16ms/step - loss: 4.0262 - accuracy: 0.2326 - lr: 0.0010\n",
            "Epoch 32/200\n",
            "484/484 [==============================] - 8s 17ms/step - loss: 3.9195 - accuracy: 0.2456 - lr: 0.0010\n",
            "Epoch 33/200\n",
            "484/484 [==============================] - 8s 16ms/step - loss: 3.8531 - accuracy: 0.2614 - lr: 0.0010\n",
            "Epoch 34/200\n",
            "484/484 [==============================] - 8s 16ms/step - loss: 3.7408 - accuracy: 0.2754 - lr: 0.0010\n",
            "Epoch 35/200\n",
            "484/484 [==============================] - 8s 16ms/step - loss: 3.6515 - accuracy: 0.2908 - lr: 0.0010\n",
            "Epoch 36/200\n",
            "484/484 [==============================] - 8s 16ms/step - loss: 3.5630 - accuracy: 0.3040 - lr: 0.0010\n",
            "Epoch 37/200\n",
            "484/484 [==============================] - 8s 16ms/step - loss: 3.4852 - accuracy: 0.3168 - lr: 0.0010\n",
            "Epoch 38/200\n",
            "484/484 [==============================] - 8s 16ms/step - loss: 3.3923 - accuracy: 0.3303 - lr: 0.0010\n",
            "Epoch 39/200\n",
            "484/484 [==============================] - 8s 16ms/step - loss: 3.2881 - accuracy: 0.3460 - lr: 0.0010\n",
            "Epoch 40/200\n",
            "484/484 [==============================] - 8s 16ms/step - loss: 3.2362 - accuracy: 0.3546 - lr: 0.0010\n",
            "Epoch 41/200\n",
            "484/484 [==============================] - 8s 16ms/step - loss: 3.1208 - accuracy: 0.3765 - lr: 0.0010\n",
            "Epoch 42/200\n",
            "484/484 [==============================] - 8s 16ms/step - loss: 3.0689 - accuracy: 0.3873 - lr: 0.0010\n",
            "Epoch 43/200\n",
            "484/484 [==============================] - 8s 16ms/step - loss: 2.9682 - accuracy: 0.4027 - lr: 0.0010\n",
            "Epoch 44/200\n",
            "484/484 [==============================] - 8s 16ms/step - loss: 2.9036 - accuracy: 0.4129 - lr: 0.0010\n",
            "Epoch 45/200\n",
            "484/484 [==============================] - 8s 16ms/step - loss: 2.8200 - accuracy: 0.4291 - lr: 0.0010\n",
            "Epoch 46/200\n",
            "484/484 [==============================] - 8s 16ms/step - loss: 2.7401 - accuracy: 0.4417 - lr: 0.0010\n",
            "Epoch 47/200\n",
            "484/484 [==============================] - 8s 16ms/step - loss: 2.6637 - accuracy: 0.4578 - lr: 0.0010\n",
            "Epoch 48/200\n",
            "484/484 [==============================] - 8s 16ms/step - loss: 2.6139 - accuracy: 0.4631 - lr: 0.0010\n",
            "Epoch 49/200\n",
            "484/484 [==============================] - 8s 16ms/step - loss: 2.5406 - accuracy: 0.4763 - lr: 0.0010\n",
            "Epoch 50/200\n",
            "484/484 [==============================] - 8s 16ms/step - loss: 2.4661 - accuracy: 0.4948 - lr: 0.0010\n",
            "Epoch 51/200\n",
            "484/484 [==============================] - 7s 15ms/step - loss: 2.4210 - accuracy: 0.4971 - lr: 0.0010\n",
            "Epoch 52/200\n",
            "484/484 [==============================] - 8s 16ms/step - loss: 2.3505 - accuracy: 0.5128 - lr: 0.0010\n",
            "Epoch 53/200\n",
            "484/484 [==============================] - 8s 15ms/step - loss: 2.2983 - accuracy: 0.5217 - lr: 0.0010\n",
            "Epoch 54/200\n",
            "484/484 [==============================] - 8s 17ms/step - loss: 2.2576 - accuracy: 0.5277 - lr: 0.0010\n",
            "Epoch 55/200\n",
            "484/484 [==============================] - 8s 16ms/step - loss: 2.1978 - accuracy: 0.5364 - lr: 0.0010\n",
            "Epoch 56/200\n",
            "484/484 [==============================] - 8s 16ms/step - loss: 2.1295 - accuracy: 0.5525 - lr: 0.0010\n",
            "Epoch 57/200\n",
            "484/484 [==============================] - 8s 16ms/step - loss: 2.1116 - accuracy: 0.5505 - lr: 0.0010\n",
            "Epoch 58/200\n",
            "484/484 [==============================] - 8s 16ms/step - loss: 2.0627 - accuracy: 0.5555 - lr: 0.0010\n",
            "Epoch 59/200\n",
            "484/484 [==============================] - 8s 16ms/step - loss: 2.0090 - accuracy: 0.5741 - lr: 0.0010\n",
            "Epoch 60/200\n",
            "484/484 [==============================] - 8s 16ms/step - loss: 1.9558 - accuracy: 0.5812 - lr: 0.0010\n",
            "Epoch 61/200\n",
            "484/484 [==============================] - 8s 16ms/step - loss: 1.9293 - accuracy: 0.5841 - lr: 0.0010\n",
            "Epoch 62/200\n",
            "484/484 [==============================] - 8s 16ms/step - loss: 1.8781 - accuracy: 0.5955 - lr: 0.0010\n",
            "Epoch 63/200\n",
            "484/484 [==============================] - 8s 16ms/step - loss: 1.8410 - accuracy: 0.6052 - lr: 0.0010\n",
            "Epoch 64/200\n",
            "484/484 [==============================] - 8s 16ms/step - loss: 1.8167 - accuracy: 0.6083 - lr: 0.0010\n",
            "Epoch 65/200\n",
            "484/484 [==============================] - 8s 16ms/step - loss: 1.7827 - accuracy: 0.6109 - lr: 0.0010\n",
            "Epoch 66/200\n",
            "484/484 [==============================] - 8s 16ms/step - loss: 1.7343 - accuracy: 0.6243 - lr: 0.0010\n",
            "Epoch 67/200\n",
            "484/484 [==============================] - 8s 16ms/step - loss: 1.6979 - accuracy: 0.6288 - lr: 0.0010\n",
            "Epoch 68/200\n",
            "484/484 [==============================] - 8s 16ms/step - loss: 1.6837 - accuracy: 0.6348 - lr: 0.0010\n",
            "Epoch 69/200\n",
            "484/484 [==============================] - 8s 16ms/step - loss: 1.6357 - accuracy: 0.6434 - lr: 0.0010\n",
            "Epoch 70/200\n",
            "484/484 [==============================] - 8s 16ms/step - loss: 1.5978 - accuracy: 0.6446 - lr: 0.0010\n",
            "Epoch 71/200\n",
            "484/484 [==============================] - 8s 16ms/step - loss: 1.5768 - accuracy: 0.6537 - lr: 0.0010\n",
            "Epoch 72/200\n",
            "484/484 [==============================] - 8s 16ms/step - loss: 1.5579 - accuracy: 0.6562 - lr: 0.0010\n",
            "Epoch 73/200\n",
            "484/484 [==============================] - 8s 16ms/step - loss: 1.5274 - accuracy: 0.6645 - lr: 0.0010\n",
            "Epoch 74/200\n",
            "484/484 [==============================] - 8s 16ms/step - loss: 1.4824 - accuracy: 0.6705 - lr: 0.0010\n",
            "Epoch 75/200\n",
            "484/484 [==============================] - 8s 16ms/step - loss: 1.4808 - accuracy: 0.6730 - lr: 0.0010\n",
            "Epoch 76/200\n",
            "484/484 [==============================] - 8s 17ms/step - loss: 1.4451 - accuracy: 0.6811 - lr: 0.0010\n",
            "Epoch 77/200\n",
            "484/484 [==============================] - 8s 16ms/step - loss: 1.4407 - accuracy: 0.6848 - lr: 0.0010\n",
            "Epoch 78/200\n",
            "484/484 [==============================] - 8s 16ms/step - loss: 1.4101 - accuracy: 0.6887 - lr: 0.0010\n",
            "Epoch 79/200\n",
            "484/484 [==============================] - 8s 16ms/step - loss: 1.3847 - accuracy: 0.6935 - lr: 0.0010\n",
            "Epoch 80/200\n",
            "484/484 [==============================] - 8s 16ms/step - loss: 1.3920 - accuracy: 0.6923 - lr: 0.0010\n",
            "Epoch 81/200\n",
            "484/484 [==============================] - 8s 16ms/step - loss: 1.3566 - accuracy: 0.6996 - lr: 0.0010\n",
            "Epoch 82/200\n",
            "484/484 [==============================] - 8s 16ms/step - loss: 1.3398 - accuracy: 0.7039 - lr: 0.0010\n",
            "Epoch 83/200\n",
            "484/484 [==============================] - 8s 16ms/step - loss: 1.3147 - accuracy: 0.7068 - lr: 0.0010\n",
            "Epoch 84/200\n",
            "484/484 [==============================] - 8s 16ms/step - loss: 1.2921 - accuracy: 0.7120 - lr: 0.0010\n",
            "Epoch 85/200\n",
            "484/484 [==============================] - 8s 16ms/step - loss: 1.3041 - accuracy: 0.7081 - lr: 0.0010\n",
            "Epoch 86/200\n",
            "484/484 [==============================] - 8s 16ms/step - loss: 1.2862 - accuracy: 0.7160 - lr: 0.0010\n",
            "Epoch 87/200\n",
            "484/484 [==============================] - 8s 16ms/step - loss: 1.2589 - accuracy: 0.7183 - lr: 0.0010\n",
            "Epoch 88/200\n",
            "484/484 [==============================] - 8s 16ms/step - loss: 1.2470 - accuracy: 0.7207 - lr: 0.0010\n",
            "Epoch 89/200\n",
            "484/484 [==============================] - 8s 16ms/step - loss: 1.2337 - accuracy: 0.7236 - lr: 0.0010\n",
            "Epoch 90/200\n",
            "484/484 [==============================] - 8s 16ms/step - loss: 1.2014 - accuracy: 0.7281 - lr: 0.0010\n",
            "Epoch 91/200\n",
            "484/484 [==============================] - 8s 16ms/step - loss: 1.2320 - accuracy: 0.7255 - lr: 0.0010\n",
            "Epoch 92/200\n",
            "484/484 [==============================] - 8s 16ms/step - loss: 1.2016 - accuracy: 0.7282 - lr: 0.0010\n",
            "Epoch 93/200\n",
            "484/484 [==============================] - 8s 16ms/step - loss: 1.1809 - accuracy: 0.7366 - lr: 0.0010\n",
            "Epoch 94/200\n",
            "484/484 [==============================] - 8s 16ms/step - loss: 1.1778 - accuracy: 0.7360 - lr: 0.0010\n",
            "Epoch 95/200\n",
            "484/484 [==============================] - 8s 16ms/step - loss: 1.1856 - accuracy: 0.7361 - lr: 0.0010\n",
            "Epoch 96/200\n",
            "484/484 [==============================] - 8s 16ms/step - loss: 1.1674 - accuracy: 0.7402 - lr: 0.0010\n",
            "Epoch 97/200\n",
            "484/484 [==============================] - 8s 16ms/step - loss: 1.1493 - accuracy: 0.7449 - lr: 0.0010\n",
            "Epoch 98/200\n",
            "484/484 [==============================] - 8s 17ms/step - loss: 1.1426 - accuracy: 0.7481 - lr: 0.0010\n",
            "Epoch 99/200\n",
            "484/484 [==============================] - 8s 16ms/step - loss: 1.1380 - accuracy: 0.7488 - lr: 0.0010\n",
            "Epoch 100/200\n",
            "484/484 [==============================] - 8s 16ms/step - loss: 1.1482 - accuracy: 0.7475 - lr: 0.0010\n",
            "Epoch 101/200\n",
            "484/484 [==============================] - 8s 16ms/step - loss: 1.1264 - accuracy: 0.7514 - lr: 0.0010\n",
            "Epoch 102/200\n",
            "484/484 [==============================] - 8s 16ms/step - loss: 1.1261 - accuracy: 0.7479 - lr: 0.0010\n",
            "Epoch 103/200\n",
            "484/484 [==============================] - 8s 16ms/step - loss: 1.0878 - accuracy: 0.7572 - lr: 0.0010\n",
            "Epoch 104/200\n",
            "484/484 [==============================] - 8s 16ms/step - loss: 1.1001 - accuracy: 0.7543 - lr: 0.0010\n",
            "Epoch 105/200\n",
            "484/484 [==============================] - 8s 16ms/step - loss: 1.0732 - accuracy: 0.7597 - lr: 0.0010\n",
            "Epoch 106/200\n",
            "484/484 [==============================] - 8s 16ms/step - loss: 1.0889 - accuracy: 0.7603 - lr: 0.0010\n",
            "Epoch 107/200\n",
            "484/484 [==============================] - 8s 16ms/step - loss: 1.0846 - accuracy: 0.7573 - lr: 0.0010\n",
            "Epoch 108/200\n",
            "484/484 [==============================] - 8s 16ms/step - loss: 1.0666 - accuracy: 0.7592 - lr: 0.0010\n",
            "Epoch 109/200\n",
            "484/484 [==============================] - 8s 16ms/step - loss: 1.0601 - accuracy: 0.7637 - lr: 0.0010\n",
            "Epoch 110/200\n",
            "484/484 [==============================] - 8s 16ms/step - loss: 1.0549 - accuracy: 0.7623 - lr: 0.0010\n",
            "Epoch 111/200\n",
            "484/484 [==============================] - 8s 16ms/step - loss: 1.0416 - accuracy: 0.7700 - lr: 0.0010\n",
            "Epoch 112/200\n",
            "484/484 [==============================] - 8s 16ms/step - loss: 1.0288 - accuracy: 0.7705 - lr: 0.0010\n",
            "Epoch 113/200\n",
            "484/484 [==============================] - 8s 16ms/step - loss: 1.0285 - accuracy: 0.7684 - lr: 0.0010\n",
            "Epoch 114/200\n",
            "484/484 [==============================] - 8s 16ms/step - loss: 1.0273 - accuracy: 0.7696 - lr: 0.0010\n",
            "Epoch 115/200\n",
            "484/484 [==============================] - 8s 16ms/step - loss: 1.0376 - accuracy: 0.7657 - lr: 0.0010\n",
            "Epoch 116/200\n",
            "484/484 [==============================] - 8s 16ms/step - loss: 1.0268 - accuracy: 0.7690 - lr: 0.0010\n",
            "Epoch 117/200\n",
            "484/484 [==============================] - 8s 16ms/step - loss: 1.0168 - accuracy: 0.7736 - lr: 0.0010\n",
            "Epoch 118/200\n",
            "484/484 [==============================] - 8s 16ms/step - loss: 1.0093 - accuracy: 0.7725 - lr: 0.0010\n",
            "Epoch 119/200\n",
            "484/484 [==============================] - 8s 16ms/step - loss: 1.0225 - accuracy: 0.7716 - lr: 0.0010\n",
            "Epoch 120/200\n",
            "484/484 [==============================] - 8s 16ms/step - loss: 1.0179 - accuracy: 0.7734 - lr: 0.0010\n",
            "Epoch 121/200\n",
            "484/484 [==============================] - 8s 17ms/step - loss: 1.0051 - accuracy: 0.7740 - lr: 0.0010\n",
            "Epoch 122/200\n",
            "484/484 [==============================] - 8s 16ms/step - loss: 0.9941 - accuracy: 0.7753 - lr: 0.0010\n",
            "Epoch 123/200\n",
            "484/484 [==============================] - 8s 16ms/step - loss: 0.9936 - accuracy: 0.7802 - lr: 0.0010\n",
            "Epoch 124/200\n",
            "484/484 [==============================] - 8s 16ms/step - loss: 1.0087 - accuracy: 0.7728 - lr: 0.0010\n",
            "Epoch 125/200\n",
            "484/484 [==============================] - 8s 16ms/step - loss: 0.9986 - accuracy: 0.7751 - lr: 0.0010\n",
            "Epoch 126/200\n",
            "484/484 [==============================] - 8s 16ms/step - loss: 1.0096 - accuracy: 0.7740 - lr: 0.0010\n",
            "Epoch 127/200\n",
            "484/484 [==============================] - 8s 16ms/step - loss: 0.9850 - accuracy: 0.7798 - lr: 0.0010\n",
            "Epoch 128/200\n",
            "484/484 [==============================] - 8s 16ms/step - loss: 0.9752 - accuracy: 0.7830 - lr: 0.0010\n",
            "Epoch 129/200\n",
            "484/484 [==============================] - 8s 16ms/step - loss: 0.9836 - accuracy: 0.7797 - lr: 0.0010\n",
            "Epoch 130/200\n",
            "484/484 [==============================] - 8s 16ms/step - loss: 0.9805 - accuracy: 0.7783 - lr: 0.0010\n",
            "Epoch 131/200\n",
            "484/484 [==============================] - 8s 16ms/step - loss: 0.9763 - accuracy: 0.7823 - lr: 0.0010\n",
            "Epoch 132/200\n",
            "484/484 [==============================] - 8s 16ms/step - loss: 0.9762 - accuracy: 0.7834 - lr: 0.0010\n",
            "Epoch 133/200\n",
            "484/484 [==============================] - 8s 16ms/step - loss: 0.9637 - accuracy: 0.7846 - lr: 0.0010\n",
            "Epoch 134/200\n",
            "484/484 [==============================] - 8s 16ms/step - loss: 0.9552 - accuracy: 0.7837 - lr: 0.0010\n",
            "Epoch 135/200\n",
            "484/484 [==============================] - 8s 16ms/step - loss: 0.9602 - accuracy: 0.7819 - lr: 0.0010\n",
            "Epoch 136/200\n",
            "484/484 [==============================] - 8s 16ms/step - loss: 0.9544 - accuracy: 0.7886 - lr: 0.0010\n",
            "Epoch 137/200\n",
            "484/484 [==============================] - 8s 16ms/step - loss: 0.9505 - accuracy: 0.7877 - lr: 0.0010\n",
            "Epoch 138/200\n",
            "484/484 [==============================] - 8s 16ms/step - loss: 0.9634 - accuracy: 0.7826 - lr: 0.0010\n",
            "Epoch 139/200\n",
            "484/484 [==============================] - 8s 16ms/step - loss: 0.9405 - accuracy: 0.7882 - lr: 0.0010\n",
            "Epoch 140/200\n",
            "484/484 [==============================] - 8s 16ms/step - loss: 0.9497 - accuracy: 0.7855 - lr: 0.0010\n",
            "Epoch 141/200\n",
            "484/484 [==============================] - 8s 16ms/step - loss: 0.9384 - accuracy: 0.7895 - lr: 0.0010\n",
            "Epoch 142/200\n",
            "484/484 [==============================] - 8s 16ms/step - loss: 0.9428 - accuracy: 0.7873 - lr: 0.0010\n",
            "Epoch 143/200\n",
            "484/484 [==============================] - 8s 17ms/step - loss: 0.9281 - accuracy: 0.7927 - lr: 0.0010\n",
            "Epoch 144/200\n",
            "484/484 [==============================] - 8s 16ms/step - loss: 0.9354 - accuracy: 0.7923 - lr: 0.0010\n",
            "Epoch 145/200\n",
            "484/484 [==============================] - 8s 16ms/step - loss: 0.9335 - accuracy: 0.7887 - lr: 0.0010\n",
            "Epoch 146/200\n",
            "484/484 [==============================] - 8s 16ms/step - loss: 0.9387 - accuracy: 0.7842 - lr: 0.0010\n",
            "Epoch 147/200\n",
            "484/484 [==============================] - 8s 16ms/step - loss: 0.9295 - accuracy: 0.7900 - lr: 0.0010\n",
            "Epoch 148/200\n",
            "484/484 [==============================] - 8s 16ms/step - loss: 0.9300 - accuracy: 0.7916 - lr: 0.0010\n",
            "Epoch 149/200\n",
            "484/484 [==============================] - 8s 16ms/step - loss: 0.8234 - accuracy: 0.8145 - lr: 1.0000e-04\n",
            "Epoch 150/200\n",
            "484/484 [==============================] - 8s 16ms/step - loss: 0.7921 - accuracy: 0.8193 - lr: 1.0000e-04\n",
            "Epoch 151/200\n",
            "484/484 [==============================] - 8s 16ms/step - loss: 0.7748 - accuracy: 0.8258 - lr: 1.0000e-04\n",
            "Epoch 152/200\n",
            "484/484 [==============================] - 8s 16ms/step - loss: 0.7603 - accuracy: 0.8304 - lr: 1.0000e-04\n",
            "Epoch 153/200\n",
            "484/484 [==============================] - 8s 16ms/step - loss: 0.7477 - accuracy: 0.8318 - lr: 1.0000e-04\n",
            "Epoch 154/200\n",
            "484/484 [==============================] - 8s 16ms/step - loss: 0.7419 - accuracy: 0.8354 - lr: 1.0000e-04\n",
            "Epoch 155/200\n",
            "484/484 [==============================] - 8s 16ms/step - loss: 0.7330 - accuracy: 0.8369 - lr: 1.0000e-04\n",
            "Epoch 156/200\n",
            "484/484 [==============================] - 8s 16ms/step - loss: 0.7271 - accuracy: 0.8389 - lr: 1.0000e-04\n",
            "Epoch 157/200\n",
            "484/484 [==============================] - 8s 16ms/step - loss: 0.7258 - accuracy: 0.8371 - lr: 1.0000e-04\n",
            "Epoch 158/200\n",
            "484/484 [==============================] - 8s 16ms/step - loss: 0.7151 - accuracy: 0.8403 - lr: 1.0000e-04\n",
            "Epoch 159/200\n",
            "484/484 [==============================] - 8s 16ms/step - loss: 0.7175 - accuracy: 0.8403 - lr: 1.0000e-04\n",
            "Epoch 160/200\n",
            "484/484 [==============================] - 8s 16ms/step - loss: 0.7082 - accuracy: 0.8419 - lr: 1.0000e-04\n",
            "Epoch 161/200\n",
            "484/484 [==============================] - 8s 16ms/step - loss: 0.7171 - accuracy: 0.8397 - lr: 1.0000e-04\n",
            "Epoch 162/200\n",
            "484/484 [==============================] - 8s 16ms/step - loss: 0.7069 - accuracy: 0.8416 - lr: 1.0000e-04\n",
            "Epoch 163/200\n",
            "484/484 [==============================] - 8s 16ms/step - loss: 0.7006 - accuracy: 0.8437 - lr: 1.0000e-04\n",
            "Epoch 164/200\n",
            "484/484 [==============================] - 8s 16ms/step - loss: 0.7028 - accuracy: 0.8432 - lr: 1.0000e-04\n",
            "Epoch 165/200\n",
            "484/484 [==============================] - 8s 17ms/step - loss: 0.6949 - accuracy: 0.8452 - lr: 1.0000e-04\n",
            "Epoch 166/200\n",
            "484/484 [==============================] - 8s 16ms/step - loss: 0.6922 - accuracy: 0.8450 - lr: 1.0000e-04\n",
            "Epoch 167/200\n",
            "484/484 [==============================] - 8s 16ms/step - loss: 0.6898 - accuracy: 0.8449 - lr: 1.0000e-04\n",
            "Epoch 168/200\n",
            "484/484 [==============================] - 8s 16ms/step - loss: 0.6925 - accuracy: 0.8464 - lr: 1.0000e-04\n",
            "Epoch 169/200\n",
            "484/484 [==============================] - 8s 16ms/step - loss: 0.6898 - accuracy: 0.8450 - lr: 1.0000e-04\n",
            "Epoch 170/200\n",
            "484/484 [==============================] - 8s 16ms/step - loss: 0.6937 - accuracy: 0.8463 - lr: 1.0000e-04\n",
            "Epoch 171/200\n",
            "484/484 [==============================] - 8s 16ms/step - loss: 0.6831 - accuracy: 0.8459 - lr: 1.0000e-04\n",
            "Epoch 172/200\n",
            "484/484 [==============================] - 8s 16ms/step - loss: 0.6833 - accuracy: 0.8470 - lr: 1.0000e-04\n",
            "Epoch 173/200\n",
            "484/484 [==============================] - 8s 16ms/step - loss: 0.6849 - accuracy: 0.8467 - lr: 1.0000e-04\n",
            "Epoch 174/200\n",
            "484/484 [==============================] - 8s 16ms/step - loss: 0.6847 - accuracy: 0.8478 - lr: 1.0000e-04\n",
            "Epoch 175/200\n",
            "484/484 [==============================] - 8s 16ms/step - loss: 0.6879 - accuracy: 0.8465 - lr: 1.0000e-04\n",
            "Epoch 176/200\n",
            "484/484 [==============================] - 8s 16ms/step - loss: 0.6697 - accuracy: 0.8484 - lr: 1.0000e-04\n",
            "Epoch 177/200\n",
            "484/484 [==============================] - 8s 16ms/step - loss: 0.6794 - accuracy: 0.8465 - lr: 1.0000e-04\n",
            "Epoch 178/200\n",
            "484/484 [==============================] - 8s 16ms/step - loss: 0.6824 - accuracy: 0.8474 - lr: 1.0000e-04\n",
            "Epoch 179/200\n",
            "484/484 [==============================] - 8s 16ms/step - loss: 0.6759 - accuracy: 0.8474 - lr: 1.0000e-04\n",
            "Epoch 180/200\n",
            "484/484 [==============================] - 8s 16ms/step - loss: 0.6716 - accuracy: 0.8498 - lr: 1.0000e-04\n",
            "Epoch 181/200\n",
            "484/484 [==============================] - 8s 16ms/step - loss: 0.6785 - accuracy: 0.8472 - lr: 1.0000e-04\n",
            "Epoch 182/200\n",
            "484/484 [==============================] - 8s 16ms/step - loss: 0.6699 - accuracy: 0.8493 - lr: 1.0000e-04\n",
            "Epoch 183/200\n",
            "484/484 [==============================] - 8s 16ms/step - loss: 0.6607 - accuracy: 0.8517 - lr: 1.0000e-04\n",
            "Epoch 184/200\n",
            "484/484 [==============================] - 8s 16ms/step - loss: 0.6766 - accuracy: 0.8478 - lr: 1.0000e-04\n",
            "Epoch 185/200\n",
            "484/484 [==============================] - 8s 16ms/step - loss: 0.6770 - accuracy: 0.8474 - lr: 1.0000e-04\n",
            "Epoch 186/200\n",
            "484/484 [==============================] - 8s 16ms/step - loss: 0.6669 - accuracy: 0.8485 - lr: 1.0000e-04\n",
            "Epoch 187/200\n",
            "484/484 [==============================] - 8s 17ms/step - loss: 0.6628 - accuracy: 0.8518 - lr: 1.0000e-04\n",
            "Epoch 188/200\n",
            "484/484 [==============================] - 8s 16ms/step - loss: 0.6581 - accuracy: 0.8518 - lr: 1.0000e-04\n",
            "Epoch 189/200\n",
            "484/484 [==============================] - 8s 16ms/step - loss: 0.6629 - accuracy: 0.8511 - lr: 1.0000e-04\n",
            "Epoch 190/200\n",
            "484/484 [==============================] - 8s 16ms/step - loss: 0.6650 - accuracy: 0.8530 - lr: 1.0000e-04\n",
            "Epoch 191/200\n",
            "484/484 [==============================] - 8s 16ms/step - loss: 0.6635 - accuracy: 0.8483 - lr: 1.0000e-04\n",
            "Epoch 192/200\n",
            "484/484 [==============================] - 8s 16ms/step - loss: 0.6580 - accuracy: 0.8509 - lr: 1.0000e-04\n",
            "Epoch 193/200\n",
            "484/484 [==============================] - 8s 16ms/step - loss: 0.6636 - accuracy: 0.8483 - lr: 1.0000e-04\n",
            "Epoch 194/200\n",
            "484/484 [==============================] - 8s 16ms/step - loss: 0.6570 - accuracy: 0.8501 - lr: 1.0000e-04\n",
            "Epoch 195/200\n",
            "484/484 [==============================] - 8s 16ms/step - loss: 0.6548 - accuracy: 0.8504 - lr: 1.0000e-04\n",
            "Epoch 196/200\n",
            "484/484 [==============================] - 8s 16ms/step - loss: 0.6530 - accuracy: 0.8529 - lr: 1.0000e-05\n",
            "Epoch 197/200\n",
            "484/484 [==============================] - 8s 16ms/step - loss: 0.6515 - accuracy: 0.8523 - lr: 1.0000e-05\n",
            "Epoch 198/200\n",
            "484/484 [==============================] - 8s 16ms/step - loss: 0.6456 - accuracy: 0.8549 - lr: 1.0000e-05\n",
            "Epoch 199/200\n",
            "484/484 [==============================] - 8s 16ms/step - loss: 0.6509 - accuracy: 0.8498 - lr: 1.0000e-05\n",
            "Epoch 200/200\n",
            "484/484 [==============================] - 8s 16ms/step - loss: 0.6472 - accuracy: 0.8524 - lr: 1.0000e-05\n"
          ]
        }
      ],
      "source": [
        "# Get the untrained model\n",
        "model = create_model(total_words, max_sequence_len)\n",
        "\n",
        "## lr' = lr/2 oncelearning stagnates \n",
        "reduce_lr = tf.keras.callbacks.ReduceLROnPlateau(monitor='accuracy',factor=0.1,\n",
        "                          patience=5, min_lr=1e-7)\n",
        "\n",
        "tensorboard_callback = tf.keras.callbacks.TensorBoard(log_dir='./logs')\n",
        "\n",
        "\n",
        "# Train the model\n",
        "history = model.fit(features, labels, epochs=200, verbose=1, callbacks = [reduce_lr,tensorboard_callback])\n"
      ]
    },
    {
      "cell_type": "markdown",
      "metadata": {
        "id": "gy72RPgly55q"
      },
      "source": [
        "**To pass this assignment, your model should achieve a training accuracy of at least 80%**. If your model didn't achieve this threshold, try training again with a different model architecture, consider increasing the number of unit in your `LSTM` layer."
      ]
    },
    {
      "cell_type": "code",
      "execution_count": 22,
      "metadata": {
        "id": "1fXTEO3GJ282",
        "tags": [],
        "colab": {
          "base_uri": "https://localhost:8080/",
          "height": 545
        },
        "outputId": "90567e68-93cc-4d48-b63f-08b988afab2c"
      },
      "outputs": [
        {
          "output_type": "display_data",
          "data": {
            "text/plain": [
              "<Figure size 432x288 with 1 Axes>"
            ],
            "image/png": "[encoded data removed]"
          },
          "metadata": {
            "needs_background": "light"
          }
        },
        {
          "output_type": "display_data",
          "data": {
            "text/plain": [
              "<Figure size 432x288 with 1 Axes>"
            ],
            "image/png": "[encoded data removed]"
          },
          "metadata": {
            "needs_background": "light"
          }
        }
      ],
      "source": [
        "# Take a look at the training curves of your model\n",
        "\n",
        "acc = history.history['accuracy']\n",
        "loss = history.history['loss']\n",
        "\n",
        "epochs = range(len(acc))\n",
        "\n",
        "plt.plot(epochs, acc, 'b', label='Training accuracy')\n",
        "plt.title('Training accuracy')\n",
        "\n",
        "plt.figure()\n",
        "\n",
        "plt.plot(epochs, loss, 'b', label='Training Loss')\n",
        "plt.title('Training loss')\n",
        "plt.legend()\n",
        "\n",
        "plt.show()"
      ]
    },
    {
      "cell_type": "markdown",
      "metadata": {
        "id": "OjvED5A3qrn2"
      },
      "source": [
        "Before closing the assignment, be sure to also download the `history.pkl` file which contains the information of the training history of your model and will be used to compute your grade. You can download this file by running the cell below:"
      ]
    },
    {
      "cell_type": "code",
      "execution_count": 23,
      "metadata": {
        "id": "9QRG73l6qE-c",
        "tags": [],
        "colab": {
          "base_uri": "https://localhost:8080/",
          "height": 17
        },
        "outputId": "aef02c0b-03d4-42d8-8f2a-e5ef17500b06"
      },
      "outputs": [
        {
          "output_type": "display_data",
          "data": {
            "text/plain": [
              "<IPython.core.display.Javascript object>"
            ],
            "application/javascript": [
              "\n",
              "    async function download(id, filename, size) {\n",
              "      if (!google.colab.kernel.accessAllowed) {\n",
              "        return;\n",
              "      }\n",
              "      const div = document.createElement('div');\n",
              "      const label = document.createElement('label');\n",
              "      label.textContent = `Downloading \"${filename}\": `;\n",
              "      div.appendChild(label);\n",
              "      const progress = document.createElement('progress');\n",
              "      progress.max = size;\n",
              "      div.appendChild(progress);\n",
              "      document.body.appendChild(div);\n",
              "\n",
              "      const buffers = [];\n",
              "      let downloaded = 0;\n",
              "\n",
              "      const channel = await google.colab.kernel.comms.open(id);\n",
              "      // Send a message to notify the kernel that we're ready.\n",
              "      channel.send({})\n",
              "\n",
              "      for await (const message of channel.messages) {\n",
              "        // Send a message to notify the kernel that we're ready.\n",
              "        channel.send({})\n",
              "        if (message.buffers) {\n",
              "          for (const buffer of message.buffers) {\n",
              "            buffers.push(buffer);\n",
              "            downloaded += buffer.byteLength;\n",
              "            progress.value = downloaded;\n",
              "          }\n",
              "        }\n",
              "      }\n",
              "      const blob = new Blob(buffers, {type: 'application/binary'});\n",
              "      const a = document.createElement('a');\n",
              "      a.href = window.URL.createObjectURL(blob);\n",
              "      a.download = filename;\n",
              "      div.appendChild(a);\n",
              "      a.click();\n",
              "      div.remove();\n",
              "    }\n",
              "  "
            ]
          },
          "metadata": {}
        },
        {
          "output_type": "display_data",
          "data": {
            "text/plain": [
              "<IPython.core.display.Javascript object>"
            ],
            "application/javascript": [
              "download(\"download_bad3a10b-65a8-4430-9a97-5ba7a8c64340\", \"history.pkl\", 6736)"
            ]
          },
          "metadata": {}
        }
      ],
      "source": [
        "def download_history():\n",
        "  import pickle\n",
        "  from google.colab import files\n",
        "\n",
        "  with open('history.pkl', 'wb') as f:\n",
        "    pickle.dump(history.history, f)\n",
        "\n",
        "  files.download('history.pkl')\n",
        "\n",
        "download_history()"
      ]
    },
    {
      "cell_type": "markdown",
      "metadata": {
        "id": "wdsMszk9zBs_"
      },
      "source": [
        "## See your model in action\n",
        "\n",
        "After all your work it is finally time to see your model generating text. \n",
        "\n",
        "Run the cell below to generate the next 100 words of a seed text.\n",
        "\n",
        "After submitting your assignment you are encouraged to try out training for different amounts of epochs and seeing how this affects the coherency of the generated text. Also try changing the seed text to see what you get!"
      ]
    },
    {
      "cell_type": "code",
      "execution_count": 24,
      "metadata": {
        "id": "6Vc6PHgxa6Hm",
        "tags": [],
        "colab": {
          "base_uri": "https://localhost:8080/"
        },
        "outputId": "fd6d6b2a-fae6-4043-e243-56ef99f5b04d"
      },
      "outputs": [
        {
          "output_type": "stream",
          "name": "stdout",
          "text": [
            "Help me Obi Wan Kenobi, you're my only hope of thee to find ' 'greeing free so sought away grow wit such the feature of all appear slain rehearse verse be ' live on you hell is lies before such dearly nought so part ' so express'd fired near slain sweetness so near sought skill blest eye are done live so luck so sight before me grow mad ' past power torn weeds smell smell or smell dost look in nature's own hand feast so wrong much sought taken fired twain sought unseen so sea in pride enjoys it bright out indigest open friend in my sight lie tender'd\n"
          ]
        }
      ],
      "source": [
        "seed_text = \"Help me Obi Wan Kenobi, you're my only hope\"\n",
        "next_words = 100\n",
        "  \n",
        "for _ in range(next_words):\n",
        "\t# Convert the text into sequences\n",
        "\ttoken_list = tokenizer.texts_to_sequences([seed_text])[0]\n",
        "\t# Pad the sequences\n",
        "\ttoken_list = pad_sequences([token_list], maxlen=max_sequence_len-1, padding='pre')\n",
        "\t# Get the probabilities of predicting a word\n",
        "\tpredicted = model.predict(token_list, verbose=0)\n",
        "\t# Choose the next word based on the maximum probability\n",
        "\tpredicted = np.argmax(predicted, axis=-1).item()\n",
        "\t# Get the actual word from the word index\n",
        "\toutput_word = tokenizer.index_word[predicted]\n",
        "\t# Append to the current text\n",
        "\tseed_text += \" \" + output_word\n",
        "\n",
        "print(seed_text)"
      ]
    },
    {
      "cell_type": "markdown",
      "metadata": {
        "id": "oQVDbdcYqSux"
      },
      "source": [
        "You will also need to submit this notebook for grading. To download it, click on the File tab in the upper left corner of the screen then click on Download -> Download .ipynb. You can name it anything you want as long as it is a valid .ipynb (jupyter notebook) file.\n",
        "\n",
        "**Congratulations on finishing this week's assignment!**\n",
        "\n",
        "You have successfully implemented a neural network capable of predicting the next word in a sequence of text!\n",
        "\n",
        "**We hope to see you in the next course of the specialization! Keep it up!**"
      ]
    }
  ],
  "metadata": {
    "accelerator": "GPU",
    "dlai_version": "1.2.0",
    "jupytext": {
      "main_language": "python"
    },
    "kernelspec": {
      "display_name": "Python 3",
      "language": "python",
      "name": "python3"
    },
    "language_info": {
      "codemirror_mode": {
        "name": "ipython",
        "version": 3
      },
      "file_extension": ".py",
      "mimetype": "text/x-python",
      "name": "python",
      "nbconvert_exporter": "python",
      "pygments_lexer": "ipython3",
      "version": "3.7.4"
    },
    "colab": {
      "provenance": [],
      "include_colab_link": true
    }
  },
  "nbformat": 4,
  "nbformat_minor": 0
}