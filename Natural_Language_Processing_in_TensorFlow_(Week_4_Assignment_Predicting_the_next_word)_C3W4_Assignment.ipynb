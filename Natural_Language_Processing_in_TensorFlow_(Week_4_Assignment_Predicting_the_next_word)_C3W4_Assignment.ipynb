{
  "cells": [
    {
      "cell_type": "markdown",
      "metadata": {
        "id": "bFWbEb6uGbN-"
      },
      "source": [
        "# Week 4: Predicting the next word\n",
        "\n",
        "Welcome to this assignment! During this week you saw how to create a model that will predict the next word in a text sequence, now you will implement such model and train it using a corpus of Shakespeare's sonnets, while also creating some helper functions to pre-process the data.\n",
        "\n",
        "\n",
        "Let's get started!"
      ]
    },
    {
      "cell_type": "code",
      "execution_count": 29,
      "metadata": {
        "id": "BOwsuGQQY9OL",
        "tags": [
          "graded"
        ]
      },
      "outputs": [],
      "source": [
        "import numpy as np \n",
        "import matplotlib.pyplot as plt\n",
        "from tensorflow.keras.models import Sequential\n",
        "from tensorflow.keras.utils import to_categorical \n",
        "from tensorflow.keras.preprocessing.text import Tokenizer\n",
        "from tensorflow.keras.preprocessing.sequence import pad_sequences\n",
        "from tensorflow.keras.layers import Embedding, LSTM, Dense, Bidirectional\n",
        "import tensorflow as tf"
      ]
    },
    {
      "cell_type": "markdown",
      "metadata": {
        "id": "BTxqlHqKHzhr"
      },
      "source": [
        "For this assignment you will be using the [Shakespeare Sonnets Dataset](https://www.opensourceshakespeare.org/views/sonnets/sonnet_view.php?range=viewrange&sonnetrange1=1&sonnetrange2=154), which contains more than 2000 lines of text extracted from Shakespeare's sonnets."
      ]
    },
    {
      "cell_type": "code",
      "execution_count": 4,
      "metadata": {
        "id": "WZ4qOUzujMP6",
        "tags": [
          "graded"
        ],
        "colab": {
          "base_uri": "https://localhost:8080/"
        },
        "outputId": "9fb2851c-0bf5-4619-adb9-d9c553f64c27"
      },
      "outputs": [
        {
          "output_type": "stream",
          "name": "stdout",
          "text": [
            "/usr/local/lib/python3.8/dist-packages/gdown/cli.py:127: FutureWarning: Option `--id` was deprecated in version 4.3.1 and will be removed in 5.0. You don't need to pass it anymore to use a file ID.\n",
            "  warnings.warn(\n",
            "Downloading...\n",
            "From: https://drive.google.com/uc?id=108jAePKK4R3BVYBbYJZ32JWUwxeMg20K\n",
            "To: /content/sonnets.txt\n",
            "100% 93.6k/93.6k [00:00<00:00, 99.4MB/s]\n"
          ]
        }
      ],
      "source": [
        "# sonnets.txt\n",
        "!gdown --id 108jAePKK4R3BVYBbYJZ32JWUwxeMg20K"
      ]
    },
    {
      "cell_type": "code",
      "execution_count": 5,
      "metadata": {
        "id": "Pfd-nYKij5yY",
        "tags": [
          "graded"
        ],
        "colab": {
          "base_uri": "https://localhost:8080/"
        },
        "outputId": "d9e6b46c-a8d4-4889-9885-cf6acb82245e"
      },
      "outputs": [
        {
          "output_type": "stream",
          "name": "stdout",
          "text": [
            "There are 2159 lines of sonnets\n",
            "\n",
            "The first 5 lines look like this:\n",
            "\n",
            "from fairest creatures we desire increase,\n",
            "that thereby beauty's rose might never die,\n",
            "but as the riper should by time decease,\n",
            "his tender heir might bear his memory:\n",
            "but thou, contracted to thine own bright eyes,\n"
          ]
        }
      ],
      "source": [
        "# Define path for file with sonnets\n",
        "SONNETS_FILE = './sonnets.txt'\n",
        "\n",
        "# Read the data\n",
        "with open('./sonnets.txt') as f:\n",
        "    data = f.read()\n",
        "\n",
        "# Convert to lower case and save as a list\n",
        "corpus = data.lower().split(\"\\n\")\n",
        "\n",
        "print(f\"There are {len(corpus)} lines of sonnets\\n\")\n",
        "print(f\"The first 5 lines look like this:\\n\")\n",
        "for i in range(5):\n",
        "  print(corpus[i])"
      ]
    },
    {
      "cell_type": "markdown",
      "metadata": {
        "id": "imB15zrSNhA1"
      },
      "source": [
        "## Tokenizing the text\n",
        "\n",
        "Now fit the Tokenizer to the corpus and save the total number of words."
      ]
    },
    {
      "cell_type": "code",
      "execution_count": 6,
      "metadata": {
        "id": "AAhM_qAZk0o5",
        "tags": [
          "graded"
        ]
      },
      "outputs": [],
      "source": [
        "tokenizer = Tokenizer()\n",
        "tokenizer.fit_on_texts(corpus)\n",
        "total_words = len(tokenizer.word_index) + 1"
      ]
    },
    {
      "cell_type": "markdown",
      "metadata": {
        "id": "77-0sA46OETa"
      },
      "source": [
        "When converting the text into sequences you can use the `texts_to_sequences` method as you have done throughout this course.\n",
        "\n",
        "In the next graded function you will need to process this corpus one line at a time. Given this, it is important to keep in mind that the way you are feeding the data unto this method affects the result. Check the following example to make this clearer.\n",
        "\n",
        "The first example of the corpus is a string and looks like this:"
      ]
    },
    {
      "cell_type": "code",
      "execution_count": 7,
      "metadata": {
        "id": "tqhPxdeXlfjh",
        "tags": [
          "graded"
        ],
        "colab": {
          "base_uri": "https://localhost:8080/",
          "height": 36
        },
        "outputId": "60371b3b-8a4c-4290-f8f8-9f6fa76f8e31"
      },
      "outputs": [
        {
          "output_type": "execute_result",
          "data": {
            "text/plain": [
              "'from fairest creatures we desire increase,'"
            ],
            "application/vnd.google.colaboratory.intrinsic+json": {
              "type": "string"
            }
          },
          "metadata": {},
          "execution_count": 7
        }
      ],
      "source": [
        "corpus[0]"
      ]
    },
    {
      "cell_type": "markdown",
      "metadata": {
        "id": "XFMP4z11O3os"
      },
      "source": [
        "If you pass this text directly into the `texts_to_sequences` method you will get an unexpected result:"
      ]
    },
    {
      "cell_type": "code",
      "execution_count": 8,
      "metadata": {
        "id": "EMSEhmbzNZCE",
        "tags": [
          "graded"
        ],
        "colab": {
          "base_uri": "https://localhost:8080/"
        },
        "outputId": "16e6d095-976e-4229-c0e9-2ed4239cde58"
      },
      "outputs": [
        {
          "output_type": "execute_result",
          "data": {
            "text/plain": [
              "[[],\n",
              " [],\n",
              " [58],\n",
              " [],\n",
              " [],\n",
              " [],\n",
              " [17],\n",
              " [6],\n",
              " [],\n",
              " [],\n",
              " [],\n",
              " [],\n",
              " [],\n",
              " [],\n",
              " [],\n",
              " [],\n",
              " [17],\n",
              " [],\n",
              " [],\n",
              " [],\n",
              " [],\n",
              " [],\n",
              " [],\n",
              " [],\n",
              " [],\n",
              " [],\n",
              " [],\n",
              " [],\n",
              " [],\n",
              " [6],\n",
              " [],\n",
              " [],\n",
              " [],\n",
              " [6],\n",
              " [],\n",
              " [],\n",
              " [],\n",
              " [],\n",
              " [17],\n",
              " [],\n",
              " [],\n",
              " []]"
            ]
          },
          "metadata": {},
          "execution_count": 8
        }
      ],
      "source": [
        "tokenizer.texts_to_sequences(corpus[0])"
      ]
    },
    {
      "cell_type": "markdown",
      "metadata": {
        "id": "pPZmZtpEPEeI"
      },
      "source": [
        "This happened because `texts_to_sequences` expects a list and you are providing a string. However a string is still and `iterable` in Python so you will get the word index of every character in the string.\n",
        "\n",
        "Instead you need to place the example whithin a list before passing it to the method:"
      ]
    },
    {
      "cell_type": "code",
      "execution_count": 9,
      "metadata": {
        "id": "Qmgo-vXhk4nd",
        "tags": [
          "graded"
        ],
        "colab": {
          "base_uri": "https://localhost:8080/"
        },
        "outputId": "bab34c2a-4e9e-465c-a41d-e6efc0647b21"
      },
      "outputs": [
        {
          "output_type": "execute_result",
          "data": {
            "text/plain": [
              "[[34, 417, 877, 166, 213, 517]]"
            ]
          },
          "metadata": {},
          "execution_count": 9
        }
      ],
      "source": [
        "tokenizer.texts_to_sequences([corpus[0]])"
      ]
    },
    {
      "cell_type": "markdown",
      "metadata": {
        "id": "0DU7wK-eQ5dc"
      },
      "source": [
        "Notice that you received the sequence wrapped inside a list so in order to get only the desired sequence you need to explicitly get the first item in the list like this:"
      ]
    },
    {
      "cell_type": "code",
      "execution_count": 10,
      "metadata": {
        "id": "kpTy8WmIQ57P",
        "tags": [
          "graded"
        ],
        "colab": {
          "base_uri": "https://localhost:8080/"
        },
        "outputId": "4e3f91b1-503d-4567-8638-8a211ede3399"
      },
      "outputs": [
        {
          "output_type": "execute_result",
          "data": {
            "text/plain": [
              "[34, 417, 877, 166, 213, 517]"
            ]
          },
          "metadata": {},
          "execution_count": 10
        }
      ],
      "source": [
        "tokenizer.texts_to_sequences([corpus[0]])[0]"
      ]
    },
    {
      "cell_type": "markdown",
      "metadata": {
        "id": "-oqy9KjXRJ9A"
      },
      "source": [
        "## Generating n_grams\n",
        "\n",
        "Now complete the `n_gram_seqs` function below. This function receives the fitted tokenizer and the corpus (which is a list of strings) and should return a list containing the `n_gram` sequences for each line in the corpus:"
      ]
    },
    {
      "cell_type": "code",
      "execution_count": 13,
      "metadata": {
        "id": "iy4baJMDl6kj",
        "tags": [
          "graded"
        ]
      },
      "outputs": [],
      "source": [
        "# GRADED FUNCTION: n_gram_seqs\n",
        "def n_gram_seqs(corpus, tokenizer):\n",
        "    \"\"\"\n",
        "    Generates a list of n-gram sequences\n",
        "    \n",
        "    Args:\n",
        "        corpus (list of string): lines of texts to generate n-grams for\n",
        "        tokenizer (object): an instance of the Tokenizer class containing the word-index dictionary\n",
        "    \n",
        "    Returns:\n",
        "        input_sequences (list of int): the n-gram sequences for each line in the corpus\n",
        "    \"\"\"\n",
        "    input_sequences = []\n",
        "    \n",
        "      ### START CODE HERE\n",
        "      # Loop over every line\n",
        "    for line in corpus:\n",
        "\n",
        "      # Tokenize the current line\n",
        "      token_list = tokenizer.texts_to_sequences([line])[0]\n",
        "\n",
        "      # Loop over the line several times to generate the subphrases\n",
        "      for i in range(1, len(token_list)):\n",
        "        \n",
        "        # Generate the subphrase\n",
        "        n_gram_sequence = token_list[:i+1]\n",
        "\n",
        "        # Append the subphrase to the sequences list\n",
        "        input_sequences.append(n_gram_sequence)\n",
        "      \n",
        "      ### END CODE HERE\n",
        "      \n",
        "    return input_sequences"
      ]
    },
    {
      "cell_type": "code",
      "execution_count": 14,
      "metadata": {
        "id": "DlKqW2pfM7G3",
        "tags": [
          "graded"
        ],
        "colab": {
          "base_uri": "https://localhost:8080/"
        },
        "outputId": "10f80530-7851-45af-d248-cab6744cbc13"
      },
      "outputs": [
        {
          "output_type": "stream",
          "name": "stdout",
          "text": [
            "n_gram sequences for first example look like this:\n",
            "\n"
          ]
        },
        {
          "output_type": "execute_result",
          "data": {
            "text/plain": [
              "[[34, 417],\n",
              " [34, 417, 877],\n",
              " [34, 417, 877, 166],\n",
              " [34, 417, 877, 166, 213],\n",
              " [34, 417, 877, 166, 213, 517]]"
            ]
          },
          "metadata": {},
          "execution_count": 14
        }
      ],
      "source": [
        "# Test your function with one example\n",
        "first_example_sequence = n_gram_seqs([corpus[0]], tokenizer)\n",
        "\n",
        "print(\"n_gram sequences for first example look like this:\\n\")\n",
        "first_example_sequence"
      ]
    },
    {
      "cell_type": "markdown",
      "metadata": {
        "id": "0HL8Ug6UU0Jt"
      },
      "source": [
        "**Expected Output:**\n",
        "\n",
        "```\n",
        "n_gram sequences for first example look like this:\n",
        "\n",
        "[[34, 417],\n",
        " [34, 417, 877],\n",
        " [34, 417, 877, 166],\n",
        " [34, 417, 877, 166, 213],\n",
        " [34, 417, 877, 166, 213, 517]]\n",
        "```"
      ]
    },
    {
      "cell_type": "code",
      "execution_count": 15,
      "metadata": {
        "id": "wtPpCcBjNc4c",
        "tags": [
          "graded"
        ],
        "colab": {
          "base_uri": "https://localhost:8080/"
        },
        "outputId": "ffb0f103-5e83-4114-dca8-2af9e8ca2733"
      },
      "outputs": [
        {
          "output_type": "stream",
          "name": "stdout",
          "text": [
            "n_gram sequences for next 3 examples look like this:\n",
            "\n"
          ]
        },
        {
          "output_type": "execute_result",
          "data": {
            "text/plain": [
              "[[8, 878],\n",
              " [8, 878, 134],\n",
              " [8, 878, 134, 351],\n",
              " [8, 878, 134, 351, 102],\n",
              " [8, 878, 134, 351, 102, 156],\n",
              " [8, 878, 134, 351, 102, 156, 199],\n",
              " [16, 22],\n",
              " [16, 22, 2],\n",
              " [16, 22, 2, 879],\n",
              " [16, 22, 2, 879, 61],\n",
              " [16, 22, 2, 879, 61, 30],\n",
              " [16, 22, 2, 879, 61, 30, 48],\n",
              " [16, 22, 2, 879, 61, 30, 48, 634],\n",
              " [25, 311],\n",
              " [25, 311, 635],\n",
              " [25, 311, 635, 102],\n",
              " [25, 311, 635, 102, 200],\n",
              " [25, 311, 635, 102, 200, 25],\n",
              " [25, 311, 635, 102, 200, 25, 278]]"
            ]
          },
          "metadata": {},
          "execution_count": 15
        }
      ],
      "source": [
        "# Test your function with a bigger corpus\n",
        "next_3_examples_sequence = n_gram_seqs(corpus[1:4], tokenizer)\n",
        "\n",
        "print(\"n_gram sequences for next 3 examples look like this:\\n\")\n",
        "next_3_examples_sequence"
      ]
    },
    {
      "cell_type": "markdown",
      "metadata": {
        "id": "EIzecMczU9UB"
      },
      "source": [
        "**Expected Output:**\n",
        "\n",
        "```\n",
        "n_gram sequences for next 3 examples look like this:\n",
        "\n",
        "[[8, 878],\n",
        " [8, 878, 134],\n",
        " [8, 878, 134, 351],\n",
        " [8, 878, 134, 351, 102],\n",
        " [8, 878, 134, 351, 102, 156],\n",
        " [8, 878, 134, 351, 102, 156, 199],\n",
        " [16, 22],\n",
        " [16, 22, 2],\n",
        " [16, 22, 2, 879],\n",
        " [16, 22, 2, 879, 61],\n",
        " [16, 22, 2, 879, 61, 30],\n",
        " [16, 22, 2, 879, 61, 30, 48],\n",
        " [16, 22, 2, 879, 61, 30, 48, 634],\n",
        " [25, 311],\n",
        " [25, 311, 635],\n",
        " [25, 311, 635, 102],\n",
        " [25, 311, 635, 102, 200],\n",
        " [25, 311, 635, 102, 200, 25],\n",
        " [25, 311, 635, 102, 200, 25, 278]]\n",
        "```"
      ]
    },
    {
      "cell_type": "markdown",
      "metadata": {
        "id": "dx3V_RjFWQSu"
      },
      "source": [
        "Apply the `n_gram_seqs` transformation to the whole corpus and save the maximum sequence length to use it later:"
      ]
    },
    {
      "cell_type": "code",
      "execution_count": 16,
      "metadata": {
        "id": "laMwiRUpmuSd",
        "tags": [
          "graded"
        ],
        "colab": {
          "base_uri": "https://localhost:8080/"
        },
        "outputId": "d096ae5c-9664-49ae-a60d-080e90c70a6b"
      },
      "outputs": [
        {
          "output_type": "stream",
          "name": "stdout",
          "text": [
            "n_grams of input_sequences have length: 15462\n",
            "maximum length of sequences is: 11\n"
          ]
        }
      ],
      "source": [
        "# Apply the n_gram_seqs transformation to the whole corpus\n",
        "input_sequences = n_gram_seqs(corpus, tokenizer)\n",
        "\n",
        "# Save max length \n",
        "max_sequence_len = max([len(x) for x in input_sequences])\n",
        "\n",
        "print(f\"n_grams of input_sequences have length: {len(input_sequences)}\")\n",
        "print(f\"maximum length of sequences is: {max_sequence_len}\")"
      ]
    },
    {
      "cell_type": "markdown",
      "metadata": {
        "id": "2OciMdmEdE9L"
      },
      "source": [
        "**Expected Output:**\n",
        "\n",
        "```\n",
        "n_grams of input_sequences have length: 15462\n",
        "maximum length of sequences is: 11\n",
        "```"
      ]
    },
    {
      "cell_type": "markdown",
      "metadata": {
        "id": "zHY7HroqWq12"
      },
      "source": [
        "## Add padding to the sequences\n",
        "\n",
        "Now code the `pad_seqs` function which will pad any given sequences to the desired maximum length. Notice that this function receives a list of sequences and should return a numpy array with the padded sequences: "
      ]
    },
    {
      "cell_type": "code",
      "execution_count": 19,
      "metadata": {
        "cellView": "code",
        "id": "WW1-qAZaWOhC",
        "tags": [
          "graded"
        ]
      },
      "outputs": [],
      "source": [
        "# GRADED FUNCTION: pad_seqs\n",
        "def pad_seqs(input_sequences, maxlen):\n",
        "    \"\"\"\n",
        "    Pads tokenized sequences to the same length\n",
        "    \n",
        "    Args:\n",
        "        input_sequences (list of int): tokenized sequences to pad\n",
        "        maxlen (int): maximum length of the token sequences\n",
        "    \n",
        "    Returns:\n",
        "        padded_sequences (array of int): tokenized sequences padded to the same length\n",
        "    \"\"\"\n",
        "    ### START CODE HERE\n",
        "    padded_sequences = pad_sequences(input_sequences, maxlen=maxlen, padding='pre')\n",
        "    \n",
        "    return padded_sequences\n",
        "    ### END CODE HERE"
      ]
    },
    {
      "cell_type": "code",
      "execution_count": 20,
      "metadata": {
        "id": "IqVQ0pb3YHLr",
        "tags": [
          "graded"
        ],
        "colab": {
          "base_uri": "https://localhost:8080/"
        },
        "outputId": "a1460883-74d5-4cab-f1f4-3ecb5db91e07"
      },
      "outputs": [
        {
          "output_type": "execute_result",
          "data": {
            "text/plain": [
              "array([[  0,   0,   0,   0,  34, 417],\n",
              "       [  0,   0,   0,  34, 417, 877],\n",
              "       [  0,   0,  34, 417, 877, 166],\n",
              "       [  0,  34, 417, 877, 166, 213],\n",
              "       [ 34, 417, 877, 166, 213, 517]], dtype=int32)"
            ]
          },
          "metadata": {},
          "execution_count": 20
        }
      ],
      "source": [
        "# Test your function with the n_grams_seq of the first example\n",
        "first_padded_seq = pad_seqs(first_example_sequence, max([len(x) for x in first_example_sequence]))\n",
        "first_padded_seq"
      ]
    },
    {
      "cell_type": "markdown",
      "metadata": {
        "id": "Re_avDznXRnU"
      },
      "source": [
        "**Expected Output:**\n",
        "\n",
        "```\n",
        "array([[  0,   0,   0,   0,  34, 417],\n",
        "       [  0,   0,   0,  34, 417, 877],\n",
        "       [  0,   0,  34, 417, 877, 166],\n",
        "       [  0,  34, 417, 877, 166, 213],\n",
        "       [ 34, 417, 877, 166, 213, 517]], dtype=int32)\n",
        "```"
      ]
    },
    {
      "cell_type": "code",
      "execution_count": 21,
      "metadata": {
        "id": "j56_UCOBYzZt",
        "tags": [
          "graded"
        ],
        "colab": {
          "base_uri": "https://localhost:8080/"
        },
        "outputId": "34a55348-34c1-4ff6-e445-b24bbfaa1ddc"
      },
      "outputs": [
        {
          "output_type": "execute_result",
          "data": {
            "text/plain": [
              "array([[  0,   0,   0,   0,   0,   0,   8, 878],\n",
              "       [  0,   0,   0,   0,   0,   8, 878, 134],\n",
              "       [  0,   0,   0,   0,   8, 878, 134, 351],\n",
              "       [  0,   0,   0,   8, 878, 134, 351, 102],\n",
              "       [  0,   0,   8, 878, 134, 351, 102, 156],\n",
              "       [  0,   8, 878, 134, 351, 102, 156, 199],\n",
              "       [  0,   0,   0,   0,   0,   0,  16,  22],\n",
              "       [  0,   0,   0,   0,   0,  16,  22,   2],\n",
              "       [  0,   0,   0,   0,  16,  22,   2, 879],\n",
              "       [  0,   0,   0,  16,  22,   2, 879,  61],\n",
              "       [  0,   0,  16,  22,   2, 879,  61,  30],\n",
              "       [  0,  16,  22,   2, 879,  61,  30,  48],\n",
              "       [ 16,  22,   2, 879,  61,  30,  48, 634],\n",
              "       [  0,   0,   0,   0,   0,   0,  25, 311],\n",
              "       [  0,   0,   0,   0,   0,  25, 311, 635],\n",
              "       [  0,   0,   0,   0,  25, 311, 635, 102],\n",
              "       [  0,   0,   0,  25, 311, 635, 102, 200],\n",
              "       [  0,   0,  25, 311, 635, 102, 200,  25],\n",
              "       [  0,  25, 311, 635, 102, 200,  25, 278]], dtype=int32)"
            ]
          },
          "metadata": {},
          "execution_count": 21
        }
      ],
      "source": [
        "# Test your function with the n_grams_seq of the next 3 examples\n",
        "next_3_padded_seq = pad_seqs(next_3_examples_sequence, max([len(s) for s in next_3_examples_sequence]))\n",
        "next_3_padded_seq"
      ]
    },
    {
      "cell_type": "markdown",
      "metadata": {
        "id": "3rmcDluOXcIU"
      },
      "source": [
        "**Expected Output:**\n",
        "\n",
        "```\n",
        "array([[  0,   0,   0,   0,   0,   0,   8, 878],\n",
        "       [  0,   0,   0,   0,   0,   8, 878, 134],\n",
        "       [  0,   0,   0,   0,   8, 878, 134, 351],\n",
        "       [  0,   0,   0,   8, 878, 134, 351, 102],\n",
        "       [  0,   0,   8, 878, 134, 351, 102, 156],\n",
        "       [  0,   8, 878, 134, 351, 102, 156, 199],\n",
        "       [  0,   0,   0,   0,   0,   0,  16,  22],\n",
        "       [  0,   0,   0,   0,   0,  16,  22,   2],\n",
        "       [  0,   0,   0,   0,  16,  22,   2, 879],\n",
        "       [  0,   0,   0,  16,  22,   2, 879,  61],\n",
        "       [  0,   0,  16,  22,   2, 879,  61,  30],\n",
        "       [  0,  16,  22,   2, 879,  61,  30,  48],\n",
        "       [ 16,  22,   2, 879,  61,  30,  48, 634],\n",
        "       [  0,   0,   0,   0,   0,   0,  25, 311],\n",
        "       [  0,   0,   0,   0,   0,  25, 311, 635],\n",
        "       [  0,   0,   0,   0,  25, 311, 635, 102],\n",
        "       [  0,   0,   0,  25, 311, 635, 102, 200],\n",
        "       [  0,   0,  25, 311, 635, 102, 200,  25],\n",
        "       [  0,  25, 311, 635, 102, 200,  25, 278]], dtype=int32)\n",
        "```"
      ]
    },
    {
      "cell_type": "code",
      "execution_count": 22,
      "metadata": {
        "id": "rgK-Q_micEYA",
        "tags": [
          "graded"
        ],
        "colab": {
          "base_uri": "https://localhost:8080/"
        },
        "outputId": "bacde8a6-8e95-4973-cf22-fa05aa49dcbf"
      },
      "outputs": [
        {
          "output_type": "stream",
          "name": "stdout",
          "text": [
            "padded corpus has shape: (15462, 11)\n"
          ]
        }
      ],
      "source": [
        "# Pad the whole corpus\n",
        "input_sequences = pad_seqs(input_sequences, max_sequence_len)\n",
        "\n",
        "print(f\"padded corpus has shape: {input_sequences.shape}\")"
      ]
    },
    {
      "cell_type": "markdown",
      "metadata": {
        "id": "59RD1YYNc7CW"
      },
      "source": [
        "**Expected Output:**\n",
        "\n",
        "```\n",
        "padded corpus has shape: (15462, 11)\n",
        "```"
      ]
    },
    {
      "cell_type": "markdown",
      "metadata": {
        "id": "ZbOidyPrXxf7"
      },
      "source": [
        "## Split the data into features and labels\n",
        "\n",
        "Before feeding the data into the neural network you should split it into features and labels. In this case the features will be the padded n_gram sequences with the last word removed from them and the labels will be the removed word.\n",
        "\n",
        "Complete the `features_and_labels` function below. This function expects the padded n_gram sequences as input and should return a tuple containing the features and the one hot encoded labels.\n",
        "\n",
        "Notice that the function also receives the total of words in the corpus, this parameter will be very important when one hot enconding the labels since every word in the corpus will be a label at least once. If you need a refresh of how the `to_categorical` function works take a look at the [docs](https://www.tensorflow.org/api_docs/python/tf/keras/utils/to_categorical)"
      ]
    },
    {
      "cell_type": "code",
      "execution_count": 23,
      "metadata": {
        "cellView": "code",
        "id": "9WGGbYdnZdmJ",
        "tags": [
          "graded"
        ]
      },
      "outputs": [],
      "source": [
        "# GRADED FUNCTION: features_and_labels\n",
        "def features_and_labels(input_sequences, total_words):\n",
        "    \"\"\"\n",
        "    Generates features and labels from n-grams\n",
        "    \n",
        "    Args:\n",
        "        input_sequences (list of int): sequences to split features and labels from\n",
        "        total_words (int): vocabulary size\n",
        "    \n",
        "    Returns:\n",
        "        features, one_hot_labels (array of int, array of int): arrays of features and one-hot encoded labels\n",
        "    \"\"\"\n",
        "    ### START CODE HERE\n",
        "    features =  input_sequences[:,:-1]\n",
        "    labels = input_sequences[:,-1]\n",
        "    one_hot_labels = to_categorical(labels, num_classes=total_words)\n",
        "    ### END CODE HERE\n",
        "\n",
        "    return features, one_hot_labels"
      ]
    },
    {
      "cell_type": "code",
      "execution_count": 24,
      "metadata": {
        "id": "23DolaBRaIAZ",
        "tags": [
          "graded"
        ],
        "colab": {
          "base_uri": "https://localhost:8080/"
        },
        "outputId": "2600570e-118d-48b1-841b-a73a8946e190"
      },
      "outputs": [
        {
          "output_type": "stream",
          "name": "stdout",
          "text": [
            "labels have shape: (5, 3211)\n",
            "\n",
            "features look like this:\n",
            "\n"
          ]
        },
        {
          "output_type": "execute_result",
          "data": {
            "text/plain": [
              "array([[  0,   0,   0,   0,  34],\n",
              "       [  0,   0,   0,  34, 417],\n",
              "       [  0,   0,  34, 417, 877],\n",
              "       [  0,  34, 417, 877, 166],\n",
              "       [ 34, 417, 877, 166, 213]], dtype=int32)"
            ]
          },
          "metadata": {},
          "execution_count": 24
        }
      ],
      "source": [
        "# Test your function with the padded n_grams_seq of the first example\n",
        "first_features, first_labels = features_and_labels(first_padded_seq, total_words)\n",
        "\n",
        "print(f\"labels have shape: {first_labels.shape}\")\n",
        "print(\"\\nfeatures look like this:\\n\")\n",
        "first_features"
      ]
    },
    {
      "cell_type": "markdown",
      "metadata": {
        "id": "7t4yAx2UaQ43"
      },
      "source": [
        "**Expected Output:**\n",
        "\n",
        "```\n",
        "labels have shape: (5, 3211)\n",
        "\n",
        "features look like this:\n",
        "\n",
        "array([[  0,   0,   0,  34],\n",
        "       [  0,   0,  34, 417],\n",
        "       [  0,  34, 417, 877],\n",
        "       [ 34, 417, 877, 166],\n",
        "       [417, 877, 166, 213]], dtype=int32)\n",
        "```"
      ]
    },
    {
      "cell_type": "code",
      "execution_count": 25,
      "metadata": {
        "id": "GRTuLEt3bRKa",
        "tags": [
          "graded"
        ],
        "colab": {
          "base_uri": "https://localhost:8080/"
        },
        "outputId": "4aade437-8fec-4891-b56f-a959102b4e6f"
      },
      "outputs": [
        {
          "output_type": "stream",
          "name": "stdout",
          "text": [
            "features have shape: (15462, 10)\n",
            "labels have shape: (15462, 3211)\n"
          ]
        }
      ],
      "source": [
        "# Split the whole corpus\n",
        "features, labels = features_and_labels(input_sequences, total_words)\n",
        "\n",
        "print(f\"features have shape: {features.shape}\")\n",
        "print(f\"labels have shape: {labels.shape}\")"
      ]
    },
    {
      "cell_type": "markdown",
      "metadata": {
        "id": "xXSMK_HpdLns"
      },
      "source": [
        "**Expected Output:**\n",
        "\n",
        "```\n",
        "features have shape: (15462, 10)\n",
        "labels have shape: (15462, 3211)\n",
        "```"
      ]
    },
    {
      "cell_type": "markdown",
      "metadata": {
        "id": "ltxaOCE_aU6J"
      },
      "source": [
        "## Create the model\n",
        "\n",
        "Now you should define a model architecture capable of achieving an accuracy of at least 80%.\n",
        "\n",
        "Some hints to help you in this task:\n",
        "\n",
        "- An appropriate `output_dim` for the first layer (Embedding) is 100, this is already provided for you.\n",
        "- A Bidirectional LSTM is helpful for this particular problem.\n",
        "- The last layer should have the same number of units as the total number of words in the corpus and a softmax activation function.\n",
        "- This problem can be solved with only two layers (excluding the Embedding) so try out small architectures first."
      ]
    },
    {
      "cell_type": "code",
      "execution_count": 47,
      "metadata": {
        "cellView": "code",
        "id": "XrE6kpJFfvRY",
        "tags": [
          "graded"
        ]
      },
      "outputs": [],
      "source": [
        "# GRADED FUNCTION: create_model\n",
        "def create_model(total_words, max_sequence_len):\n",
        "    \"\"\"\n",
        "    Creates a text generator model\n",
        "    \n",
        "    Args:\n",
        "        total_words (int): size of the vocabulary for the Embedding layer input\n",
        "        max_sequence_len (int): length of the input sequences\n",
        "    \n",
        "    Returns:\n",
        "        model (tf.keras Model): the text generator model\n",
        "    \"\"\"\n",
        "   \n",
        "    model = tf.keras.models.Sequential([ \n",
        "        # This is how you need to set the Embedding layer when using pre-trained embeddings\n",
        "        tf.keras.layers.Embedding(total_words, 100, input_length=max_sequence_len-1),\n",
        "        tf.keras.layers.Bidirectional(tf.keras.layers.LSTM(128, return_sequences=True)),\n",
        "        tf.keras.layers.Bidirectional(tf.keras.layers.LSTM(256, return_sequences=True)),\n",
        "        tf.keras.layers.Bidirectional(tf.keras.layers.LSTM(128)),        \n",
        "        tf.keras.layers.Dense(256),\n",
        "        tf.keras.layers.BatchNormalization(),\n",
        "        tf.keras.layers.LeakyReLU(),\n",
        "        tf.keras.layers.Dropout(0.5),\n",
        "        tf.keras.layers.Dense(128),\n",
        "        tf.keras.layers.BatchNormalization(),\n",
        "        tf.keras.layers.LeakyReLU(),\n",
        "        tf.keras.layers.Dropout(0.5),    \n",
        "        tf.keras.layers.Dense(total_words,activation=\"softmax\"),\n",
        "    \n",
        "    ])  \n",
        "    \n",
        "\n",
        "\n",
        "    # Compile the model\n",
        "    model.compile(loss=\"categorical_crossentropy\",\n",
        "                  optimizer=tf.keras.optimizers.Adam(1e-3),\n",
        "                  metrics=['accuracy'])\n",
        "    \n",
        "    ### END CODE HERE\n",
        "    model.summary()\n",
        "    return model"
      ]
    },
    {
      "cell_type": "code",
      "execution_count": 48,
      "metadata": {
        "id": "0IpX_Gu_gISk",
        "tags": [],
        "colab": {
          "base_uri": "https://localhost:8080/"
        },
        "outputId": "70d7e4fc-b557-4021-ebb5-2568896afc9d"
      },
      "outputs": [
        {
          "output_type": "stream",
          "name": "stdout",
          "text": [
            "Model: \"sequential_11\"\n",
            "_________________________________________________________________\n",
            " Layer (type)                Output Shape              Param #   \n",
            "=================================================================\n",
            " embedding_11 (Embedding)    (None, 10, 100)           321100    \n",
            "                                                                 \n",
            " bidirectional_28 (Bidirecti  (None, 10, 256)          234496    \n",
            " onal)                                                           \n",
            "                                                                 \n",
            " bidirectional_29 (Bidirecti  (None, 10, 512)          1050624   \n",
            " onal)                                                           \n",
            "                                                                 \n",
            " bidirectional_30 (Bidirecti  (None, 256)              656384    \n",
            " onal)                                                           \n",
            "                                                                 \n",
            " dense_33 (Dense)            (None, 256)               65792     \n",
            "                                                                 \n",
            " batch_normalization_22 (Bat  (None, 256)              1024      \n",
            " chNormalization)                                                \n",
            "                                                                 \n",
            " leaky_re_lu_22 (LeakyReLU)  (None, 256)               0         \n",
            "                                                                 \n",
            " dropout_22 (Dropout)        (None, 256)               0         \n",
            "                                                                 \n",
            " dense_34 (Dense)            (None, 128)               32896     \n",
            "                                                                 \n",
            " batch_normalization_23 (Bat  (None, 128)              512       \n",
            " chNormalization)                                                \n",
            "                                                                 \n",
            " leaky_re_lu_23 (LeakyReLU)  (None, 128)               0         \n",
            "                                                                 \n",
            " dropout_23 (Dropout)        (None, 128)               0         \n",
            "                                                                 \n",
            " dense_35 (Dense)            (None, 3211)              414219    \n",
            "                                                                 \n",
            "=================================================================\n",
            "Total params: 2,777,047\n",
            "Trainable params: 2,776,279\n",
            "Non-trainable params: 768\n",
            "_________________________________________________________________\n",
            "Epoch 1/200\n",
            "484/484 [==============================] - 16s 18ms/step - loss: 7.0333 - accuracy: 0.0206 - lr: 0.0010\n",
            "Epoch 2/200\n",
            "484/484 [==============================] - 9s 18ms/step - loss: 6.6946 - accuracy: 0.0220 - lr: 0.0010\n",
            "Epoch 3/200\n",
            "484/484 [==============================] - 8s 16ms/step - loss: 6.5276 - accuracy: 0.0261 - lr: 0.0010\n",
            "Epoch 4/200\n",
            "484/484 [==============================] - 8s 16ms/step - loss: 6.4033 - accuracy: 0.0283 - lr: 0.0010\n",
            "Epoch 5/200\n",
            "484/484 [==============================] - 8s 17ms/step - loss: 6.2810 - accuracy: 0.0332 - lr: 0.0010\n",
            "Epoch 6/200\n",
            "484/484 [==============================] - 8s 16ms/step - loss: 6.1917 - accuracy: 0.0417 - lr: 0.0010\n",
            "Epoch 7/200\n",
            "484/484 [==============================] - 8s 16ms/step - loss: 6.0789 - accuracy: 0.0449 - lr: 0.0010\n",
            "Epoch 8/200\n",
            "484/484 [==============================] - 8s 16ms/step - loss: 5.9762 - accuracy: 0.0503 - lr: 0.0010\n",
            "Epoch 9/200\n",
            "484/484 [==============================] - 8s 16ms/step - loss: 5.8717 - accuracy: 0.0565 - lr: 0.0010\n",
            "Epoch 10/200\n",
            "484/484 [==============================] - 8s 16ms/step - loss: 5.7723 - accuracy: 0.0633 - lr: 0.0010\n",
            "Epoch 11/200\n",
            "484/484 [==============================] - 8s 16ms/step - loss: 5.6538 - accuracy: 0.0708 - lr: 0.0010\n",
            "Epoch 12/200\n",
            "484/484 [==============================] - 8s 16ms/step - loss: 5.5568 - accuracy: 0.0775 - lr: 0.0010\n",
            "Epoch 13/200\n",
            "484/484 [==============================] - 8s 16ms/step - loss: 5.4737 - accuracy: 0.0819 - lr: 0.0010\n",
            "Epoch 14/200\n",
            "484/484 [==============================] - 8s 16ms/step - loss: 5.3883 - accuracy: 0.0896 - lr: 0.0010\n",
            "Epoch 15/200\n",
            "484/484 [==============================] - 8s 16ms/step - loss: 5.2876 - accuracy: 0.0969 - lr: 0.0010\n",
            "Epoch 16/200\n",
            "484/484 [==============================] - 8s 16ms/step - loss: 5.2086 - accuracy: 0.1016 - lr: 0.0010\n",
            "Epoch 17/200\n",
            "484/484 [==============================] - 8s 16ms/step - loss: 5.1312 - accuracy: 0.1084 - lr: 0.0010\n",
            "Epoch 18/200\n",
            "484/484 [==============================] - 8s 16ms/step - loss: 5.0610 - accuracy: 0.1125 - lr: 0.0010\n",
            "Epoch 19/200\n",
            "484/484 [==============================] - 8s 16ms/step - loss: 4.9832 - accuracy: 0.1214 - lr: 0.0010\n",
            "Epoch 20/200\n",
            "484/484 [==============================] - 8s 16ms/step - loss: 4.9039 - accuracy: 0.1294 - lr: 0.0010\n",
            "Epoch 21/200\n",
            "484/484 [==============================] - 8s 16ms/step - loss: 4.8251 - accuracy: 0.1355 - lr: 0.0010\n",
            "Epoch 22/200\n",
            "484/484 [==============================] - 8s 17ms/step - loss: 4.7512 - accuracy: 0.1433 - lr: 0.0010\n",
            "Epoch 23/200\n",
            "484/484 [==============================] - 8s 16ms/step - loss: 4.6823 - accuracy: 0.1531 - lr: 0.0010\n",
            "Epoch 24/200\n",
            "484/484 [==============================] - 8s 16ms/step - loss: 4.6205 - accuracy: 0.1573 - lr: 0.0010\n",
            "Epoch 25/200\n",
            "484/484 [==============================] - 8s 16ms/step - loss: 4.5264 - accuracy: 0.1688 - lr: 0.0010\n",
            "Epoch 26/200\n",
            "484/484 [==============================] - 8s 16ms/step - loss: 4.4723 - accuracy: 0.1771 - lr: 0.0010\n",
            "Epoch 27/200\n",
            "484/484 [==============================] - 8s 16ms/step - loss: 4.3912 - accuracy: 0.1850 - lr: 0.0010\n",
            "Epoch 28/200\n",
            "484/484 [==============================] - 8s 16ms/step - loss: 4.3186 - accuracy: 0.1951 - lr: 0.0010\n",
            "Epoch 29/200\n",
            "484/484 [==============================] - 8s 16ms/step - loss: 4.2490 - accuracy: 0.2035 - lr: 0.0010\n",
            "Epoch 30/200\n",
            "484/484 [==============================] - 8s 18ms/step - loss: 4.1793 - accuracy: 0.2125 - lr: 0.0010\n",
            "Epoch 31/200\n",
            "484/484 [==============================] - 8s 16ms/step - loss: 4.1102 - accuracy: 0.2234 - lr: 0.0010\n",
            "Epoch 32/200\n",
            "484/484 [==============================] - 8s 16ms/step - loss: 4.0255 - accuracy: 0.2357 - lr: 0.0010\n",
            "Epoch 33/200\n",
            "484/484 [==============================] - 8s 16ms/step - loss: 3.9573 - accuracy: 0.2397 - lr: 0.0010\n",
            "Epoch 34/200\n",
            "484/484 [==============================] - 8s 16ms/step - loss: 3.8998 - accuracy: 0.2482 - lr: 0.0010\n",
            "Epoch 35/200\n",
            "484/484 [==============================] - 8s 16ms/step - loss: 3.8302 - accuracy: 0.2583 - lr: 0.0010\n",
            "Epoch 36/200\n",
            "484/484 [==============================] - 8s 16ms/step - loss: 3.7740 - accuracy: 0.2730 - lr: 0.0010\n",
            "Epoch 37/200\n",
            "484/484 [==============================] - 8s 16ms/step - loss: 3.6865 - accuracy: 0.2830 - lr: 0.0010\n",
            "Epoch 38/200\n",
            "484/484 [==============================] - 8s 16ms/step - loss: 3.6205 - accuracy: 0.2923 - lr: 0.0010\n",
            "Epoch 39/200\n",
            "484/484 [==============================] - 8s 17ms/step - loss: 3.5463 - accuracy: 0.3005 - lr: 0.0010\n",
            "Epoch 40/200\n",
            "484/484 [==============================] - 8s 17ms/step - loss: 3.4754 - accuracy: 0.3125 - lr: 0.0010\n",
            "Epoch 41/200\n",
            "484/484 [==============================] - 8s 16ms/step - loss: 3.4234 - accuracy: 0.3208 - lr: 0.0010\n",
            "Epoch 42/200\n",
            "484/484 [==============================] - 8s 16ms/step - loss: 3.3635 - accuracy: 0.3302 - lr: 0.0010\n",
            "Epoch 43/200\n",
            "484/484 [==============================] - 8s 16ms/step - loss: 3.2789 - accuracy: 0.3482 - lr: 0.0010\n",
            "Epoch 44/200\n",
            "484/484 [==============================] - 8s 16ms/step - loss: 3.2084 - accuracy: 0.3597 - lr: 0.0010\n",
            "Epoch 45/200\n",
            "484/484 [==============================] - 8s 16ms/step - loss: 3.1493 - accuracy: 0.3675 - lr: 0.0010\n",
            "Epoch 46/200\n",
            "484/484 [==============================] - 8s 16ms/step - loss: 3.0925 - accuracy: 0.3800 - lr: 0.0010\n",
            "Epoch 47/200\n",
            "484/484 [==============================] - 8s 17ms/step - loss: 3.0153 - accuracy: 0.3961 - lr: 0.0010\n",
            "Epoch 48/200\n",
            "484/484 [==============================] - 8s 16ms/step - loss: 2.9593 - accuracy: 0.4016 - lr: 0.0010\n",
            "Epoch 49/200\n",
            "484/484 [==============================] - 8s 16ms/step - loss: 2.8926 - accuracy: 0.4120 - lr: 0.0010\n",
            "Epoch 50/200\n",
            "484/484 [==============================] - 8s 16ms/step - loss: 2.8285 - accuracy: 0.4218 - lr: 0.0010\n",
            "Epoch 51/200\n",
            "484/484 [==============================] - 8s 17ms/step - loss: 2.7722 - accuracy: 0.4355 - lr: 0.0010\n",
            "Epoch 52/200\n",
            "484/484 [==============================] - 8s 16ms/step - loss: 2.7260 - accuracy: 0.4402 - lr: 0.0010\n",
            "Epoch 53/200\n",
            "484/484 [==============================] - 8s 16ms/step - loss: 2.6675 - accuracy: 0.4565 - lr: 0.0010\n",
            "Epoch 54/200\n",
            "484/484 [==============================] - 8s 17ms/step - loss: 2.6018 - accuracy: 0.4670 - lr: 0.0010\n",
            "Epoch 55/200\n",
            "484/484 [==============================] - 8s 16ms/step - loss: 2.5457 - accuracy: 0.4748 - lr: 0.0010\n",
            "Epoch 56/200\n",
            "484/484 [==============================] - 8s 16ms/step - loss: 2.4938 - accuracy: 0.4803 - lr: 0.0010\n",
            "Epoch 57/200\n",
            "484/484 [==============================] - 9s 18ms/step - loss: 2.4255 - accuracy: 0.4960 - lr: 0.0010\n",
            "Epoch 58/200\n",
            "484/484 [==============================] - 8s 17ms/step - loss: 2.3800 - accuracy: 0.5072 - lr: 0.0010\n",
            "Epoch 59/200\n",
            "484/484 [==============================] - 8s 17ms/step - loss: 2.3313 - accuracy: 0.5101 - lr: 0.0010\n",
            "Epoch 60/200\n",
            "484/484 [==============================] - 8s 16ms/step - loss: 2.2819 - accuracy: 0.5153 - lr: 0.0010\n",
            "Epoch 61/200\n",
            "484/484 [==============================] - 8s 16ms/step - loss: 2.2415 - accuracy: 0.5287 - lr: 0.0010\n",
            "Epoch 62/200\n",
            "484/484 [==============================] - 8s 17ms/step - loss: 2.1823 - accuracy: 0.5419 - lr: 0.0010\n",
            "Epoch 63/200\n",
            "484/484 [==============================] - 8s 16ms/step - loss: 2.1402 - accuracy: 0.5486 - lr: 0.0010\n",
            "Epoch 64/200\n",
            "484/484 [==============================] - 8s 16ms/step - loss: 2.0699 - accuracy: 0.5554 - lr: 0.0010\n",
            "Epoch 65/200\n",
            "484/484 [==============================] - 8s 16ms/step - loss: 2.0403 - accuracy: 0.5633 - lr: 0.0010\n",
            "Epoch 66/200\n",
            "484/484 [==============================] - 8s 17ms/step - loss: 2.0042 - accuracy: 0.5715 - lr: 0.0010\n",
            "Epoch 67/200\n",
            "484/484 [==============================] - 8s 17ms/step - loss: 1.9683 - accuracy: 0.5756 - lr: 0.0010\n",
            "Epoch 68/200\n",
            "484/484 [==============================] - 8s 16ms/step - loss: 1.9132 - accuracy: 0.5886 - lr: 0.0010\n",
            "Epoch 69/200\n",
            "484/484 [==============================] - 8s 16ms/step - loss: 1.8687 - accuracy: 0.5975 - lr: 0.0010\n",
            "Epoch 70/200\n",
            "484/484 [==============================] - 8s 17ms/step - loss: 1.8367 - accuracy: 0.6054 - lr: 0.0010\n",
            "Epoch 71/200\n",
            "484/484 [==============================] - 8s 16ms/step - loss: 1.8111 - accuracy: 0.6077 - lr: 0.0010\n",
            "Epoch 72/200\n",
            "484/484 [==============================] - 8s 16ms/step - loss: 1.7720 - accuracy: 0.6124 - lr: 0.0010\n",
            "Epoch 73/200\n",
            "484/484 [==============================] - 8s 17ms/step - loss: 1.7341 - accuracy: 0.6226 - lr: 0.0010\n",
            "Epoch 74/200\n",
            "484/484 [==============================] - 8s 16ms/step - loss: 1.6994 - accuracy: 0.6265 - lr: 0.0010\n",
            "Epoch 75/200\n",
            "484/484 [==============================] - 8s 16ms/step - loss: 1.6710 - accuracy: 0.6348 - lr: 0.0010\n",
            "Epoch 76/200\n",
            "484/484 [==============================] - 8s 17ms/step - loss: 1.6547 - accuracy: 0.6391 - lr: 0.0010\n",
            "Epoch 77/200\n",
            "484/484 [==============================] - 8s 17ms/step - loss: 1.5957 - accuracy: 0.6467 - lr: 0.0010\n",
            "Epoch 78/200\n",
            "484/484 [==============================] - 8s 16ms/step - loss: 1.5770 - accuracy: 0.6554 - lr: 0.0010\n",
            "Epoch 79/200\n",
            "484/484 [==============================] - 8s 17ms/step - loss: 1.5596 - accuracy: 0.6588 - lr: 0.0010\n",
            "Epoch 80/200\n",
            "484/484 [==============================] - 8s 16ms/step - loss: 1.5322 - accuracy: 0.6613 - lr: 0.0010\n",
            "Epoch 81/200\n",
            "484/484 [==============================] - 8s 17ms/step - loss: 1.5191 - accuracy: 0.6665 - lr: 0.0010\n",
            "Epoch 82/200\n",
            "484/484 [==============================] - 8s 17ms/step - loss: 1.4700 - accuracy: 0.6731 - lr: 0.0010\n",
            "Epoch 83/200\n",
            "484/484 [==============================] - 8s 17ms/step - loss: 1.4739 - accuracy: 0.6762 - lr: 0.0010\n",
            "Epoch 84/200\n",
            "484/484 [==============================] - 9s 18ms/step - loss: 1.4361 - accuracy: 0.6812 - lr: 0.0010\n",
            "Epoch 85/200\n",
            "484/484 [==============================] - 8s 17ms/step - loss: 1.4241 - accuracy: 0.6866 - lr: 0.0010\n",
            "Epoch 86/200\n",
            "484/484 [==============================] - 8s 16ms/step - loss: 1.3880 - accuracy: 0.6958 - lr: 0.0010\n",
            "Epoch 87/200\n",
            "484/484 [==============================] - 8s 16ms/step - loss: 1.3798 - accuracy: 0.6942 - lr: 0.0010\n",
            "Epoch 88/200\n",
            "484/484 [==============================] - 8s 16ms/step - loss: 1.3565 - accuracy: 0.7001 - lr: 0.0010\n",
            "Epoch 89/200\n",
            "484/484 [==============================] - 8s 17ms/step - loss: 1.3463 - accuracy: 0.7017 - lr: 0.0010\n",
            "Epoch 90/200\n",
            "484/484 [==============================] - 8s 16ms/step - loss: 1.3305 - accuracy: 0.7050 - lr: 0.0010\n",
            "Epoch 91/200\n",
            "484/484 [==============================] - 8s 16ms/step - loss: 1.3100 - accuracy: 0.7064 - lr: 0.0010\n",
            "Epoch 92/200\n",
            "484/484 [==============================] - 8s 17ms/step - loss: 1.2845 - accuracy: 0.7141 - lr: 0.0010\n",
            "Epoch 93/200\n",
            "484/484 [==============================] - 8s 16ms/step - loss: 1.2782 - accuracy: 0.7192 - lr: 0.0010\n",
            "Epoch 94/200\n",
            "484/484 [==============================] - 8s 16ms/step - loss: 1.2684 - accuracy: 0.7163 - lr: 0.0010\n",
            "Epoch 95/200\n",
            "484/484 [==============================] - 8s 16ms/step - loss: 1.2546 - accuracy: 0.7221 - lr: 0.0010\n",
            "Epoch 96/200\n",
            "484/484 [==============================] - 8s 16ms/step - loss: 1.2480 - accuracy: 0.7215 - lr: 0.0010\n",
            "Epoch 97/200\n",
            "484/484 [==============================] - 8s 17ms/step - loss: 1.2261 - accuracy: 0.7262 - lr: 0.0010\n",
            "Epoch 98/200\n",
            "484/484 [==============================] - 8s 17ms/step - loss: 1.2217 - accuracy: 0.7288 - lr: 0.0010\n",
            "Epoch 99/200\n",
            "484/484 [==============================] - 8s 17ms/step - loss: 1.2095 - accuracy: 0.7322 - lr: 0.0010\n",
            "Epoch 100/200\n",
            "484/484 [==============================] - 8s 16ms/step - loss: 1.1793 - accuracy: 0.7374 - lr: 0.0010\n",
            "Epoch 101/200\n",
            "484/484 [==============================] - 9s 18ms/step - loss: 1.1874 - accuracy: 0.7359 - lr: 0.0010\n",
            "Epoch 102/200\n",
            "484/484 [==============================] - 8s 17ms/step - loss: 1.1719 - accuracy: 0.7410 - lr: 0.0010\n",
            "Epoch 103/200\n",
            "484/484 [==============================] - 9s 18ms/step - loss: 1.1651 - accuracy: 0.7419 - lr: 0.0010\n",
            "Epoch 104/200\n",
            "484/484 [==============================] - 9s 18ms/step - loss: 1.1737 - accuracy: 0.7384 - lr: 0.0010\n",
            "Epoch 105/200\n",
            "484/484 [==============================] - 9s 18ms/step - loss: 1.1678 - accuracy: 0.7369 - lr: 0.0010\n",
            "Epoch 106/200\n",
            "484/484 [==============================] - 9s 19ms/step - loss: 1.1397 - accuracy: 0.7442 - lr: 0.0010\n",
            "Epoch 107/200\n",
            "484/484 [==============================] - 9s 19ms/step - loss: 1.1192 - accuracy: 0.7500 - lr: 0.0010\n",
            "Epoch 108/200\n",
            "484/484 [==============================] - 9s 19ms/step - loss: 1.1244 - accuracy: 0.7511 - lr: 0.0010\n",
            "Epoch 109/200\n",
            "484/484 [==============================] - 9s 19ms/step - loss: 1.1124 - accuracy: 0.7538 - lr: 0.0010\n",
            "Epoch 110/200\n",
            "484/484 [==============================] - 10s 21ms/step - loss: 1.1113 - accuracy: 0.7543 - lr: 0.0010\n",
            "Epoch 111/200\n",
            "484/484 [==============================] - 9s 19ms/step - loss: 1.1109 - accuracy: 0.7547 - lr: 0.0010\n",
            "Epoch 112/200\n",
            "484/484 [==============================] - 9s 19ms/step - loss: 1.0929 - accuracy: 0.7610 - lr: 0.0010\n",
            "Epoch 113/200\n",
            "484/484 [==============================] - 9s 19ms/step - loss: 1.1084 - accuracy: 0.7551 - lr: 0.0010\n",
            "Epoch 114/200\n",
            "484/484 [==============================] - 10s 21ms/step - loss: 1.0730 - accuracy: 0.7614 - lr: 0.0010\n",
            "Epoch 115/200\n",
            "484/484 [==============================] - 10s 20ms/step - loss: 1.0703 - accuracy: 0.7623 - lr: 0.0010\n",
            "Epoch 116/200\n",
            "484/484 [==============================] - 9s 19ms/step - loss: 1.0775 - accuracy: 0.7613 - lr: 0.0010\n",
            "Epoch 117/200\n",
            "484/484 [==============================] - 8s 17ms/step - loss: 1.0784 - accuracy: 0.7613 - lr: 0.0010\n",
            "Epoch 118/200\n",
            "484/484 [==============================] - 8s 17ms/step - loss: 1.0495 - accuracy: 0.7665 - lr: 0.0010\n",
            "Epoch 119/200\n",
            "484/484 [==============================] - 8s 17ms/step - loss: 1.0527 - accuracy: 0.7654 - lr: 0.0010\n",
            "Epoch 120/200\n",
            "484/484 [==============================] - 8s 17ms/step - loss: 1.0418 - accuracy: 0.7694 - lr: 0.0010\n",
            "Epoch 121/200\n",
            "484/484 [==============================] - 8s 17ms/step - loss: 1.0343 - accuracy: 0.7664 - lr: 0.0010\n",
            "Epoch 122/200\n",
            "484/484 [==============================] - 8s 17ms/step - loss: 1.0414 - accuracy: 0.7698 - lr: 0.0010\n",
            "Epoch 123/200\n",
            "484/484 [==============================] - 8s 17ms/step - loss: 1.0497 - accuracy: 0.7628 - lr: 0.0010\n",
            "Epoch 124/200\n",
            "484/484 [==============================] - 8s 17ms/step - loss: 1.0293 - accuracy: 0.7733 - lr: 0.0010\n",
            "Epoch 125/200\n",
            "484/484 [==============================] - 8s 17ms/step - loss: 1.0266 - accuracy: 0.7696 - lr: 0.0010\n",
            "Epoch 126/200\n",
            "484/484 [==============================] - 8s 17ms/step - loss: 1.0201 - accuracy: 0.7702 - lr: 0.0010\n",
            "Epoch 127/200\n",
            "484/484 [==============================] - 8s 17ms/step - loss: 1.0088 - accuracy: 0.7754 - lr: 0.0010\n",
            "Epoch 128/200\n",
            "484/484 [==============================] - 8s 17ms/step - loss: 1.0153 - accuracy: 0.7723 - lr: 0.0010\n",
            "Epoch 129/200\n",
            "484/484 [==============================] - 8s 17ms/step - loss: 0.9913 - accuracy: 0.7824 - lr: 0.0010\n",
            "Epoch 130/200\n",
            "484/484 [==============================] - 8s 17ms/step - loss: 0.9908 - accuracy: 0.7802 - lr: 0.0010\n",
            "Epoch 131/200\n",
            "484/484 [==============================] - 8s 17ms/step - loss: 1.0086 - accuracy: 0.7797 - lr: 0.0010\n",
            "Epoch 132/200\n",
            "484/484 [==============================] - 8s 17ms/step - loss: 0.9919 - accuracy: 0.7789 - lr: 0.0010\n",
            "Epoch 133/200\n",
            "484/484 [==============================] - 8s 17ms/step - loss: 0.9926 - accuracy: 0.7793 - lr: 0.0010\n",
            "Epoch 134/200\n",
            "484/484 [==============================] - 8s 17ms/step - loss: 0.9872 - accuracy: 0.7773 - lr: 0.0010\n",
            "Epoch 135/200\n",
            "484/484 [==============================] - 8s 18ms/step - loss: 0.8846 - accuracy: 0.8020 - lr: 1.0000e-04\n",
            "Epoch 136/200\n",
            "484/484 [==============================] - 9s 18ms/step - loss: 0.8403 - accuracy: 0.8124 - lr: 1.0000e-04\n",
            "Epoch 137/200\n",
            "484/484 [==============================] - 8s 17ms/step - loss: 0.8220 - accuracy: 0.8185 - lr: 1.0000e-04\n",
            "Epoch 138/200\n",
            "484/484 [==============================] - 8s 17ms/step - loss: 0.8023 - accuracy: 0.8218 - lr: 1.0000e-04\n",
            "Epoch 139/200\n",
            "484/484 [==============================] - 8s 17ms/step - loss: 0.7820 - accuracy: 0.8279 - lr: 1.0000e-04\n",
            "Epoch 140/200\n",
            "484/484 [==============================] - 8s 17ms/step - loss: 0.7763 - accuracy: 0.8291 - lr: 1.0000e-04\n",
            "Epoch 141/200\n",
            "484/484 [==============================] - 8s 17ms/step - loss: 0.7702 - accuracy: 0.8331 - lr: 1.0000e-04\n",
            "Epoch 142/200\n",
            "484/484 [==============================] - 8s 17ms/step - loss: 0.7633 - accuracy: 0.8327 - lr: 1.0000e-04\n",
            "Epoch 143/200\n",
            "484/484 [==============================] - 8s 18ms/step - loss: 0.7603 - accuracy: 0.8317 - lr: 1.0000e-04\n",
            "Epoch 144/200\n",
            "484/484 [==============================] - 8s 17ms/step - loss: 0.7489 - accuracy: 0.8357 - lr: 1.0000e-04\n",
            "Epoch 145/200\n",
            "484/484 [==============================] - 8s 17ms/step - loss: 0.7490 - accuracy: 0.8342 - lr: 1.0000e-04\n",
            "Epoch 146/200\n",
            "484/484 [==============================] - 8s 17ms/step - loss: 0.7475 - accuracy: 0.8368 - lr: 1.0000e-04\n",
            "Epoch 147/200\n",
            "484/484 [==============================] - 8s 17ms/step - loss: 0.7340 - accuracy: 0.8373 - lr: 1.0000e-04\n",
            "Epoch 148/200\n",
            "484/484 [==============================] - 8s 17ms/step - loss: 0.7417 - accuracy: 0.8371 - lr: 1.0000e-04\n",
            "Epoch 149/200\n",
            "484/484 [==============================] - 8s 17ms/step - loss: 0.7368 - accuracy: 0.8388 - lr: 1.0000e-04\n",
            "Epoch 150/200\n",
            "484/484 [==============================] - 8s 17ms/step - loss: 0.7300 - accuracy: 0.8408 - lr: 1.0000e-04\n",
            "Epoch 151/200\n",
            "484/484 [==============================] - 8s 17ms/step - loss: 0.7297 - accuracy: 0.8395 - lr: 1.0000e-04\n",
            "Epoch 152/200\n",
            "484/484 [==============================] - 8s 17ms/step - loss: 0.7242 - accuracy: 0.8404 - lr: 1.0000e-04\n",
            "Epoch 153/200\n",
            "484/484 [==============================] - 8s 17ms/step - loss: 0.7317 - accuracy: 0.8387 - lr: 1.0000e-04\n",
            "Epoch 154/200\n",
            "484/484 [==============================] - 8s 17ms/step - loss: 0.7174 - accuracy: 0.8419 - lr: 1.0000e-04\n",
            "Epoch 155/200\n",
            "484/484 [==============================] - 8s 17ms/step - loss: 0.7193 - accuracy: 0.8410 - lr: 1.0000e-04\n",
            "Epoch 156/200\n",
            "484/484 [==============================] - 8s 17ms/step - loss: 0.7237 - accuracy: 0.8421 - lr: 1.0000e-04\n",
            "Epoch 157/200\n",
            "484/484 [==============================] - 8s 17ms/step - loss: 0.7171 - accuracy: 0.8404 - lr: 1.0000e-04\n",
            "Epoch 158/200\n",
            "484/484 [==============================] - 8s 17ms/step - loss: 0.7180 - accuracy: 0.8432 - lr: 1.0000e-04\n",
            "Epoch 159/200\n",
            "484/484 [==============================] - 8s 17ms/step - loss: 0.7065 - accuracy: 0.8454 - lr: 1.0000e-04\n",
            "Epoch 160/200\n",
            "484/484 [==============================] - 8s 17ms/step - loss: 0.7056 - accuracy: 0.8441 - lr: 1.0000e-04\n",
            "Epoch 161/200\n",
            "484/484 [==============================] - 8s 17ms/step - loss: 0.7140 - accuracy: 0.8408 - lr: 1.0000e-04\n",
            "Epoch 162/200\n",
            "484/484 [==============================] - 9s 18ms/step - loss: 0.7103 - accuracy: 0.8455 - lr: 1.0000e-04\n",
            "Epoch 163/200\n",
            "484/484 [==============================] - 8s 17ms/step - loss: 0.7120 - accuracy: 0.8421 - lr: 1.0000e-04\n",
            "Epoch 164/200\n",
            "484/484 [==============================] - 8s 17ms/step - loss: 0.7038 - accuracy: 0.8448 - lr: 1.0000e-04\n",
            "Epoch 165/200\n",
            "484/484 [==============================] - 8s 17ms/step - loss: 0.7027 - accuracy: 0.8459 - lr: 1.0000e-04\n",
            "Epoch 166/200\n",
            "484/484 [==============================] - 8s 17ms/step - loss: 0.6953 - accuracy: 0.8454 - lr: 1.0000e-04\n",
            "Epoch 167/200\n",
            "484/484 [==============================] - 8s 17ms/step - loss: 0.7044 - accuracy: 0.8439 - lr: 1.0000e-04\n",
            "Epoch 168/200\n",
            "484/484 [==============================] - 8s 17ms/step - loss: 0.7043 - accuracy: 0.8431 - lr: 1.0000e-04\n",
            "Epoch 169/200\n",
            "484/484 [==============================] - 8s 17ms/step - loss: 0.6904 - accuracy: 0.8461 - lr: 1.0000e-04\n",
            "Epoch 170/200\n",
            "484/484 [==============================] - 8s 17ms/step - loss: 0.7097 - accuracy: 0.8439 - lr: 1.0000e-04\n",
            "Epoch 171/200\n",
            "484/484 [==============================] - 8s 17ms/step - loss: 0.6897 - accuracy: 0.8463 - lr: 1.0000e-04\n",
            "Epoch 172/200\n",
            "484/484 [==============================] - 8s 17ms/step - loss: 0.6931 - accuracy: 0.8463 - lr: 1.0000e-04\n",
            "Epoch 173/200\n",
            "484/484 [==============================] - 8s 17ms/step - loss: 0.6919 - accuracy: 0.8458 - lr: 1.0000e-04\n",
            "Epoch 174/200\n",
            "484/484 [==============================] - 8s 17ms/step - loss: 0.6916 - accuracy: 0.8488 - lr: 1.0000e-04\n",
            "Epoch 175/200\n",
            "484/484 [==============================] - 8s 17ms/step - loss: 0.6912 - accuracy: 0.8475 - lr: 1.0000e-04\n",
            "Epoch 176/200\n",
            "484/484 [==============================] - 8s 17ms/step - loss: 0.6946 - accuracy: 0.8458 - lr: 1.0000e-04\n",
            "Epoch 177/200\n",
            "484/484 [==============================] - 8s 17ms/step - loss: 0.6925 - accuracy: 0.8459 - lr: 1.0000e-04\n",
            "Epoch 178/200\n",
            "484/484 [==============================] - 8s 17ms/step - loss: 0.6929 - accuracy: 0.8453 - lr: 1.0000e-04\n",
            "Epoch 179/200\n",
            "484/484 [==============================] - 8s 17ms/step - loss: 0.6907 - accuracy: 0.8478 - lr: 1.0000e-04\n",
            "Epoch 180/200\n",
            "484/484 [==============================] - 8s 17ms/step - loss: 0.6737 - accuracy: 0.8498 - lr: 1.0000e-05\n",
            "Epoch 181/200\n",
            "484/484 [==============================] - 8s 17ms/step - loss: 0.6708 - accuracy: 0.8522 - lr: 1.0000e-05\n",
            "Epoch 182/200\n",
            "484/484 [==============================] - 8s 17ms/step - loss: 0.6697 - accuracy: 0.8502 - lr: 1.0000e-05\n",
            "Epoch 183/200\n",
            "484/484 [==============================] - 8s 17ms/step - loss: 0.6801 - accuracy: 0.8505 - lr: 1.0000e-05\n",
            "Epoch 184/200\n",
            "484/484 [==============================] - 8s 17ms/step - loss: 0.6758 - accuracy: 0.8464 - lr: 1.0000e-05\n",
            "Epoch 185/200\n",
            "484/484 [==============================] - 8s 17ms/step - loss: 0.6699 - accuracy: 0.8511 - lr: 1.0000e-05\n",
            "Epoch 186/200\n",
            "484/484 [==============================] - 8s 17ms/step - loss: 0.6810 - accuracy: 0.8468 - lr: 1.0000e-05\n",
            "Epoch 187/200\n",
            "484/484 [==============================] - 8s 17ms/step - loss: 0.6749 - accuracy: 0.8485 - lr: 1.0000e-06\n",
            "Epoch 188/200\n",
            "484/484 [==============================] - 9s 18ms/step - loss: 0.6717 - accuracy: 0.8525 - lr: 1.0000e-06\n",
            "Epoch 189/200\n",
            "484/484 [==============================] - 8s 17ms/step - loss: 0.6707 - accuracy: 0.8500 - lr: 1.0000e-06\n",
            "Epoch 190/200\n",
            "484/484 [==============================] - 8s 17ms/step - loss: 0.6706 - accuracy: 0.8501 - lr: 1.0000e-06\n",
            "Epoch 191/200\n",
            "484/484 [==============================] - 8s 17ms/step - loss: 0.6766 - accuracy: 0.8485 - lr: 1.0000e-06\n",
            "Epoch 192/200\n",
            "484/484 [==============================] - 8s 17ms/step - loss: 0.6680 - accuracy: 0.8492 - lr: 1.0000e-06\n",
            "Epoch 193/200\n",
            "484/484 [==============================] - 8s 17ms/step - loss: 0.6748 - accuracy: 0.8505 - lr: 1.0000e-06\n",
            "Epoch 194/200\n",
            "484/484 [==============================] - 8s 17ms/step - loss: 0.6778 - accuracy: 0.8479 - lr: 1.0000e-07\n",
            "Epoch 195/200\n",
            "484/484 [==============================] - 8s 17ms/step - loss: 0.6734 - accuracy: 0.8494 - lr: 1.0000e-07\n",
            "Epoch 196/200\n",
            "484/484 [==============================] - 8s 17ms/step - loss: 0.6684 - accuracy: 0.8516 - lr: 1.0000e-07\n",
            "Epoch 197/200\n",
            "484/484 [==============================] - 8s 17ms/step - loss: 0.6665 - accuracy: 0.8498 - lr: 1.0000e-07\n",
            "Epoch 198/200\n",
            "484/484 [==============================] - 8s 17ms/step - loss: 0.6711 - accuracy: 0.8510 - lr: 1.0000e-07\n",
            "Epoch 199/200\n",
            "484/484 [==============================] - 8s 17ms/step - loss: 0.6811 - accuracy: 0.8498 - lr: 1.0000e-07\n",
            "Epoch 200/200\n",
            "484/484 [==============================] - 8s 17ms/step - loss: 0.6667 - accuracy: 0.8514 - lr: 1.0000e-07\n"
          ]
        }
      ],
      "source": [
        "# Get the untrained model\n",
        "model = create_model(total_words, max_sequence_len)\n",
        "\n",
        "## lr' = lr/2 oncelearning stagnates \n",
        "reduce_lr = tf.keras.callbacks.ReduceLROnPlateau(monitor='accuracy',factor=0.1,\n",
        "                          patience=5, min_lr=1e-7)\n",
        "\n",
        "tensorboard_callback = tf.keras.callbacks.TensorBoard(log_dir='./logs')\n",
        "\n",
        "\n",
        "# Train the model\n",
        "history = model.fit(features, labels, epochs=200, verbose=1, callbacks = [reduce_lr,tensorboard_callback])\n"
      ]
    },
    {
      "cell_type": "markdown",
      "metadata": {
        "id": "gy72RPgly55q"
      },
      "source": [
        "**To pass this assignment, your model should achieve a training accuracy of at least 80%**. If your model didn't achieve this threshold, try training again with a different model architecture, consider increasing the number of unit in your `LSTM` layer."
      ]
    },
    {
      "cell_type": "code",
      "execution_count": 49,
      "metadata": {
        "id": "1fXTEO3GJ282",
        "tags": [],
        "colab": {
          "base_uri": "https://localhost:8080/",
          "height": 545
        },
        "outputId": "8a91a479-f947-4807-99aa-45884c44bd3f"
      },
      "outputs": [
        {
          "output_type": "display_data",
          "data": {
            "text/plain": [
              "<Figure size 432x288 with 1 Axes>"
            ],
            "image/png": "[encoded data removed]"
          },
          "metadata": {
            "needs_background": "light"
          }
        },
        {
          "output_type": "display_data",
          "data": {
            "text/plain": [
              "<Figure size 432x288 with 1 Axes>"
            ],
            "image/png": "[encoded data removed]"
          },
          "metadata": {
            "needs_background": "light"
          }
        }
      ],
      "source": [
        "# Take a look at the training curves of your model\n",
        "\n",
        "acc = history.history['accuracy']\n",
        "loss = history.history['loss']\n",
        "\n",
        "epochs = range(len(acc))\n",
        "\n",
        "plt.plot(epochs, acc, 'b', label='Training accuracy')\n",
        "plt.title('Training accuracy')\n",
        "\n",
        "plt.figure()\n",
        "\n",
        "plt.plot(epochs, loss, 'b', label='Training Loss')\n",
        "plt.title('Training loss')\n",
        "plt.legend()\n",
        "\n",
        "plt.show()"
      ]
    },
    {
      "cell_type": "markdown",
      "metadata": {
        "id": "OjvED5A3qrn2"
      },
      "source": [
        "Before closing the assignment, be sure to also download the `history.pkl` file which contains the information of the training history of your model and will be used to compute your grade. You can download this file by running the cell below:"
      ]
    },
    {
      "cell_type": "code",
      "execution_count": 52,
      "metadata": {
        "id": "9QRG73l6qE-c",
        "tags": [],
        "colab": {
          "base_uri": "https://localhost:8080/",
          "height": 34
        },
        "outputId": "2ebf09eb-f694-4aa6-e989-ceb8622e5538"
      },
      "outputs": [
        {
          "output_type": "display_data",
          "data": {
            "text/plain": [
              "<IPython.core.display.Javascript object>"
            ],
            "application/javascript": [
              "\n",
              "    async function download(id, filename, size) {\n",
              "      if (!google.colab.kernel.accessAllowed) {\n",
              "        return;\n",
              "      }\n",
              "      const div = document.createElement('div');\n",
              "      const label = document.createElement('label');\n",
              "      label.textContent = `Downloading \"${filename}\": `;\n",
              "      div.appendChild(label);\n",
              "      const progress = document.createElement('progress');\n",
              "      progress.max = size;\n",
              "      div.appendChild(progress);\n",
              "      document.body.appendChild(div);\n",
              "\n",
              "      const buffers = [];\n",
              "      let downloaded = 0;\n",
              "\n",
              "      const channel = await google.colab.kernel.comms.open(id);\n",
              "      // Send a message to notify the kernel that we're ready.\n",
              "      channel.send({})\n",
              "\n",
              "      for await (const message of channel.messages) {\n",
              "        // Send a message to notify the kernel that we're ready.\n",
              "        channel.send({})\n",
              "        if (message.buffers) {\n",
              "          for (const buffer of message.buffers) {\n",
              "            buffers.push(buffer);\n",
              "            downloaded += buffer.byteLength;\n",
              "            progress.value = downloaded;\n",
              "          }\n",
              "        }\n",
              "      }\n",
              "      const blob = new Blob(buffers, {type: 'application/binary'});\n",
              "      const a = document.createElement('a');\n",
              "      a.href = window.URL.createObjectURL(blob);\n",
              "      a.download = filename;\n",
              "      div.appendChild(a);\n",
              "      a.click();\n",
              "      div.remove();\n",
              "    }\n",
              "  "
            ]
          },
          "metadata": {}
        },
        {
          "output_type": "display_data",
          "data": {
            "text/plain": [
              "<IPython.core.display.Javascript object>"
            ],
            "application/javascript": [
              "download(\"download_573ae80d-b085-4a31-a6bc-1ffccd898afd\", \"history.pkl\", 6736)"
            ]
          },
          "metadata": {}
        }
      ],
      "source": [
        "def download_history():\n",
        "  import pickle\n",
        "  from google.colab import files\n",
        "\n",
        "  with open('history.pkl', 'wb') as f:\n",
        "    pickle.dump(history.history, f)\n",
        "\n",
        "  files.download('history.pkl')\n",
        "\n",
        "download_history()"
      ]
    },
    {
      "cell_type": "markdown",
      "metadata": {
        "id": "wdsMszk9zBs_"
      },
      "source": [
        "## See your model in action\n",
        "\n",
        "After all your work it is finally time to see your model generating text. \n",
        "\n",
        "Run the cell below to generate the next 100 words of a seed text.\n",
        "\n",
        "After submitting your assignment you are encouraged to try out training for different amounts of epochs and seeing how this affects the coherency of the generated text. Also try changing the seed text to see what you get!"
      ]
    },
    {
      "cell_type": "code",
      "execution_count": null,
      "metadata": {
        "id": "6Vc6PHgxa6Hm",
        "tags": []
      },
      "outputs": [],
      "source": [
        "seed_text = \"Help me Obi Wan Kenobi, you're my only hope\"\n",
        "next_words = 100\n",
        "  \n",
        "for _ in range(next_words):\n",
        "\t# Convert the text into sequences\n",
        "\ttoken_list = tokenizer.texts_to_sequences([seed_text])[0]\n",
        "\t# Pad the sequences\n",
        "\ttoken_list = pad_sequences([token_list], maxlen=max_sequence_len-1, padding='pre')\n",
        "\t# Get the probabilities of predicting a word\n",
        "\tpredicted = model.predict(token_list, verbose=0)\n",
        "\t# Choose the next word based on the maximum probability\n",
        "\tpredicted = np.argmax(predicted, axis=-1).item()\n",
        "\t# Get the actual word from the word index\n",
        "\toutput_word = tokenizer.index_word[predicted]\n",
        "\t# Append to the current text\n",
        "\tseed_text += \" \" + output_word\n",
        "\n",
        "print(seed_text)"
      ]
    },
    {
      "cell_type": "markdown",
      "metadata": {
        "id": "oQVDbdcYqSux"
      },
      "source": [
        "You will also need to submit this notebook for grading. To download it, click on the File tab in the upper left corner of the screen then click on Download -> Download .ipynb. You can name it anything you want as long as it is a valid .ipynb (jupyter notebook) file.\n",
        "\n",
        "**Congratulations on finishing this week's assignment!**\n",
        "\n",
        "You have successfully implemented a neural network capable of predicting the next word in a sequence of text!\n",
        "\n",
        "**We hope to see you in the next course of the specialization! Keep it up!**"
      ]
    }
  ],
  "metadata": {
    "accelerator": "GPU",
    "dlai_version": "1.2.0",
    "jupytext": {
      "main_language": "python"
    },
    "kernelspec": {
      "display_name": "Python 3",
      "language": "python",
      "name": "python3"
    },
    "language_info": {
      "codemirror_mode": {
        "name": "ipython",
        "version": 3
      },
      "file_extension": ".py",
      "mimetype": "text/x-python",
      "name": "python",
      "nbconvert_exporter": "python",
      "pygments_lexer": "ipython3",
      "version": "3.7.4"
    },
    "colab": {
      "provenance": []
    }
  },
  "nbformat": 4,
  "nbformat_minor": 0
}